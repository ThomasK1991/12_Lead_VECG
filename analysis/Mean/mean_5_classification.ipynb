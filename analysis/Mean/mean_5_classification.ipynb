{
 "cells": [
  {
   "cell_type": "markdown",
   "id": "f6895d6f-3873-43f5-b1b6-0b5933a12c47",
   "metadata": {},
   "source": [
    "# **Disentangled Representational Learning of Single Lead Electrocardiogram Signals using Variational Autoencoder**"
   ]
  },
  {
   "cell_type": "markdown",
   "id": "476c6b6b-411b-4308-871f-7974aa0725df",
   "metadata": {},
   "source": [
    "This notebook evaluates the properties and accuracy of the trained VECG model in several aspects. The structure follows the three main objectives:\n",
    "\n",
    "1. investigation of **Disentanglement**\n",
    "2. evaluation of **Anomaly Detection** accuracy and explainability\n",
    "3. improvements through the use of **Personalization**\n",
    "\n",
    "The results are summarized in a corresponding article, which the authors ask to be cited when using the results of this work."
   ]
  },
  {
   "cell_type": "markdown",
   "id": "bb412653-9cb0-4067-a1de-4e7bbe463d09",
   "metadata": {},
   "source": [
    "## General\n",
    "\n",
    "This section of for imports, getting an overview of all experiments, and loading the most suitable model."
   ]
  },
  {
   "cell_type": "code",
   "execution_count": 1,
   "id": "4a2677da-43ed-4925-ab00-42fbef076971",
   "metadata": {
    "ExecuteTime": {
     "end_time": "2024-02-29T15:16:51.261096Z",
     "start_time": "2024-02-29T15:16:47.287077Z"
    }
   },
   "outputs": [
    {
     "name": "stdout",
     "output_type": "stream",
     "text": [
      "📂 Project Root: /users/newc6477/VAE/12_Lead_VECG\n",
      "✅ Updated sys.path:\n",
      "['/users/newc6477/Benchmark_ISIBrno/ENTER/envs/my_env/lib/python310.zip', '/users/newc6477/Benchmark_ISIBrno/ENTER/envs/my_env/lib/python3.10', '/users/newc6477/Benchmark_ISIBrno/ENTER/envs/my_env/lib/python3.10/lib-dynload', '', '/users/newc6477/Benchmark_ISIBrno/ENTER/envs/my_env/lib/python3.10/site-packages', '/users/newc6477/VAE/12_Lead_VECG', '/users/newc6477/VAE/12_Lead_VECG/src']\n"
     ]
    },
    {
     "name": "stderr",
     "output_type": "stream",
     "text": [
      "2025-04-05 15:56:01.198416: E tensorflow/compiler/xla/stream_executor/cuda/cuda_dnn.cc:9342] Unable to register cuDNN factory: Attempting to register factory for plugin cuDNN when one has already been registered\n",
      "2025-04-05 15:56:01.198492: E tensorflow/compiler/xla/stream_executor/cuda/cuda_fft.cc:609] Unable to register cuFFT factory: Attempting to register factory for plugin cuFFT when one has already been registered\n",
      "2025-04-05 15:56:01.198550: E tensorflow/compiler/xla/stream_executor/cuda/cuda_blas.cc:1518] Unable to register cuBLAS factory: Attempting to register factory for plugin cuBLAS when one has already been registered\n",
      "2025-04-05 15:56:09.258151: W tensorflow/compiler/tf2tensorrt/utils/py_utils.cc:38] TF-TRT Warning: Could not find TensorRT\n"
     ]
    },
    {
     "name": "stdout",
     "output_type": "stream",
     "text": [
      "✅ Successfully imported `Helper` and `Visualizations`\n"
     ]
    }
   ],
   "source": [
    "import sys\n",
    "import os\n",
    "import warnings\n",
    "import logging\n",
    "from absl import logging as absl_logging\n",
    "\n",
    "# ✅ Ensure Correct TensorFlow Configuration\n",
    "os.environ['TFDS_DATA_DIR'] = r\"/data/newc6477/VAE/Mean_Beat/All_Physionet/\"\n",
    "os.environ['TF_ENABLE_ONEDNN_OPTS'] = \"0\"\n",
    "os.environ[\"TF_CPP_MIN_LOG_LEVEL\"] = \"1\"\n",
    "\n",
    "# ✅ Ensure Correct Working Directory\n",
    "PROJECT_ROOT = os.path.abspath(os.path.join(os.getcwd(), \"..\", \"..\"))\n",
    "if PROJECT_ROOT not in sys.path:\n",
    "    sys.path.append(PROJECT_ROOT)\n",
    "\n",
    "print(f\"📂 Project Root: {PROJECT_ROOT}\")\n",
    "\n",
    "# ✅ Ensure `src/` is in Python's Path\n",
    "SRC_DIR = os.path.join(PROJECT_ROOT, \"src\")\n",
    "if SRC_DIR not in sys.path:\n",
    "    sys.path.append(SRC_DIR)\n",
    "\n",
    "print(f\"✅ Updated sys.path:\\n{sys.path}\")\n",
    "\n",
    "# ✅ Suppress Warnings\n",
    "warnings.filterwarnings('ignore')\n",
    "warnings.simplefilter(action='ignore', category=FutureWarning)\n",
    "absl_logging.set_verbosity(absl_logging.ERROR)\n",
    "\n",
    "# ✅ Import Modules\n",
    "try:\n",
    "    from src.utils.helper import Helper\n",
    "    from src.evaluate.visualizations import Visualizations\n",
    "    print(\"✅ Successfully imported `Helper` and `Visualizations`\")\n",
    "except ModuleNotFoundError as e:\n",
    "    print(f\"❌ Import Error: {e}\")\n",
    "    print(\"🔍 Check if `src/` has `__init__.py` and is in `sys.path`.\")\n",
    "\n",
    "# ✅ Import Other Required Libraries\n",
    "import tensorflow as tf\n",
    "import pandas as pd\n",
    "import numpy as np\n",
    "import glob\n",
    "from neurokit2.signal import signal_smooth\n",
    "\n",
    "from sklearn.manifold import TSNE\n",
    "from sklearn.model_selection import train_test_split\n",
    "\n",
    "import ipywidgets as widgets\n",
    "from matplotlib import pyplot as plt\n",
    "import seaborn as sns\n",
    "import json\n",
    "\n"
   ]
  },
  {
   "cell_type": "code",
   "execution_count": 2,
   "id": "f4648dd3-2715-4200-9cc0-fa278a28ebe2",
   "metadata": {
    "ExecuteTime": {
     "end_time": "2024-02-23T19:44:52.963608Z",
     "start_time": "2024-02-23T19:44:52.961246Z"
    }
   },
   "outputs": [],
   "source": [
    "# The resolution for saving images\n",
    "DPI = 300\n",
    "\n",
    "# The source path of the experiments and models\n",
    "PATH = r\"/users/newc6477/VAE/12_Lead_VECG/results/run_10s\"\n",
    "\n",
    "# Some operations take some time in computation.\n",
    "# Therefore, the stored intermediate results can be used to skip the respective computation.\n",
    "USE_PRECOMPUTED = True"
   ]
  },
  {
   "cell_type": "markdown",
   "id": "b303dfd3-3734-4f54-afd8-95e6124d1f45",
   "metadata": {},
   "source": [
    "## physionet"
   ]
  },
  {
   "cell_type": "markdown",
   "id": "4cb45d0f-8e88-465b-8746-1312f9299a63",
   "metadata": {},
   "source": [
    "### Data Preparation"
   ]
  },
  {
   "cell_type": "markdown",
   "id": "def2c967-f66d-4f24-aae7-85bdb157c762",
   "metadata": {},
   "source": [
    "The consecutive steps are:\n",
    "\n",
    "1. Loading the physionet train, validation, and test data set\n",
    "2. Embedding the data sets\n",
    "3. Excluding the non-relevant pathologies, i.e., LAE, ICB, FAC\n",
    "4. Preparing the matrix and their associated binary and multiclass labels"
   ]
  },
  {
   "cell_type": "code",
   "execution_count": 4,
   "id": "8fd9de76",
   "metadata": {},
   "outputs": [
    {
     "name": "stdout",
     "output_type": "stream",
     "text": [
      "✅ Loading model for I from /users/newc6477/VAE/12_Lead_VECG/results/mean_all/test_is_split1/I/2025-04-05_06-03-31/model_best.keras\n",
      "✅ Loading model for II from /users/newc6477/VAE/12_Lead_VECG/results/mean_all/test_is_split1/II/2025-04-05_06-59-44/model_best.keras\n",
      "✅ Loading model for III from /users/newc6477/VAE/12_Lead_VECG/results/mean_all/test_is_split1/III/2025-04-05_09-07-25/model_best.keras\n",
      "✅ Loading model for aVR from /users/newc6477/VAE/12_Lead_VECG/results/mean_all/test_is_split1/aVR/2025-04-05_10-36-07/model_best.keras\n",
      "✅ Loading model for aVF from /users/newc6477/VAE/12_Lead_VECG/results/mean_all/test_is_split1/aVF/2025-04-04_19-04-23/model_best.keras\n",
      "✅ Loading model for V1 from /users/newc6477/VAE/12_Lead_VECG/results/mean_all/test_is_split1/V1/2025-04-04_22-07-36/model_best.keras\n",
      "✅ Loading model for V2 from /users/newc6477/VAE/12_Lead_VECG/results/mean_all/test_is_split1/V2/2025-04-04_23-51-26/model_best.keras\n",
      "✅ Loading model for V3 from /users/newc6477/VAE/12_Lead_VECG/results/mean_all/test_is_split1/V3/2025-04-05_01-14-34/model_best.keras\n",
      "✅ Loading model for V4 from /users/newc6477/VAE/12_Lead_VECG/results/mean_all/test_is_split1/V4/2025-04-05_02-14-54/model_best.keras\n",
      "✅ Loading model for V5 from /users/newc6477/VAE/12_Lead_VECG/results/mean_all/test_is_split1/V5/2025-04-05_04-09-43/model_best.keras\n",
      "✅ Loading model for V6 from /users/newc6477/VAE/12_Lead_VECG/results/mean_all/test_is_split1/V6/2025-04-05_13-36-33/model_best.keras\n"
     ]
    }
   ],
   "source": [
    "# Path to your model base directory\n",
    "BASE = '/users/newc6477/VAE/12_Lead_VECG/results/mean_all/test_is_split1'\n",
    "\n",
    "# Path to the JSON file containing best timestamps for each lead\n",
    "json_path = \"best_folders.json\"\n",
    "\n",
    "# Load best folder names from JSON\n",
    "with open(json_path, \"r\") as f:\n",
    "    best_folders = json.load(f)\n",
    "\n",
    "# Load models dynamically into a dictionary\n",
    "models = {}\n",
    "for lead_key, folder in best_folders.items():\n",
    "    # Strip \"lead_\" prefix → \"lead_I\" → \"I\"\n",
    "    lead = lead_key.replace(\"lead_\", \"\")\n",
    "    \n",
    "    model_path = os.path.join(BASE, lead, folder, \"model_best.keras\")\n",
    "    if os.path.exists(model_path):\n",
    "        print(f\"✅ Loading model for {lead} from {model_path}\")\n",
    "        models[lead] = tf.keras.models.load_model(model_path, compile=False)\n",
    "    else:\n",
    "        print(f\"❌ Warning: Model not found for {lead} at {model_path}\")\n",
    "\n",
    "\n",
    "# If needed, convert to a list\n",
    "model_list = list(models.values())"
   ]
  },
  {
   "cell_type": "code",
   "execution_count": 5,
   "id": "158a7f7f-40cf-41a1-a866-0e7b608ddd0d",
   "metadata": {},
   "outputs": [],
   "source": [
    "train_splits = ['split2', 'split3', 'split4', 'split5']\n",
    "dataset_config = {\n",
    "    'name': ['physionet'],\n",
    "    'split': train_splits,\n",
    "    'shuffle_size': 1024,\n",
    "    'batch_size': 1024,\n",
    "}\n",
    "test_splits = ['split1']\n",
    "dataset_test = {\n",
    "    'name': ['physionet'],\n",
    "    'split': test_splits,\n",
    "    'shuffle_size': 1024,\n",
    "    'batch_size': 1024,\n",
    "}"
   ]
  },
  {
   "cell_type": "code",
   "execution_count": 6,
   "id": "7af1f8e7-a995-4d98-8842-3c5f2e4721d9",
   "metadata": {},
   "outputs": [
    {
     "name": "stdout",
     "output_type": "stream",
     "text": [
      "\n",
      "📦 Loading dataset: physionet\n",
      "  ⤷ Using splits: ['split2', 'split3', 'split4', 'split5']\n",
      "🔍 Processing lead I...\n",
      "     66/Unknown - 2s 29ms/step✅ Generator exhausted normally.\n",
      "69/69 [==============================] - 2s 29ms/step\n",
      "🔍 Processing lead II...\n",
      "     68/Unknown - 2s 28ms/step✅ Generator exhausted normally.\n",
      "69/69 [==============================] - 2s 28ms/step\n",
      "🔍 Processing lead III...\n",
      "     68/Unknown - 2s 28ms/step✅ Generator exhausted normally.\n",
      "69/69 [==============================] - 2s 28ms/step\n",
      "🔍 Processing lead aVR...\n",
      "     67/Unknown - 2s 30ms/step✅ Generator exhausted normally.\n",
      "69/69 [==============================] - 2s 30ms/step\n",
      "🔍 Processing lead aVL...\n",
      "     68/Unknown - 2s 28ms/step✅ Generator exhausted normally.\n",
      "69/69 [==============================] - 2s 28ms/step\n",
      "🔍 Processing lead aVF...\n",
      "     68/Unknown - 2s 27ms/step✅ Generator exhausted normally.\n",
      "69/69 [==============================] - 2s 28ms/step\n",
      "🔍 Processing lead V1...\n",
      "     68/Unknown - 2s 28ms/step✅ Generator exhausted normally.\n",
      "69/69 [==============================] - 2s 28ms/step\n",
      "🔍 Processing lead V2...\n",
      "     67/Unknown - 2s 27ms/step✅ Generator exhausted normally.\n",
      "69/69 [==============================] - 2s 27ms/step\n",
      "🔍 Processing lead V3...\n",
      "     66/Unknown - 2s 28ms/step✅ Generator exhausted normally.\n",
      "69/69 [==============================] - 2s 28ms/step\n",
      "🔍 Processing lead V4...\n",
      "     68/Unknown - 2s 28ms/step✅ Generator exhausted normally.\n",
      "69/69 [==============================] - 2s 28ms/step\n",
      "🔍 Processing lead V5...\n",
      "     66/Unknown - 2s 29ms/step✅ Generator exhausted normally.\n",
      "69/69 [==============================] - 2s 29ms/step\n",
      "✅ All leads processed. Final embedding shape: (70602, 234)\n",
      "📐 Total latent dimension: 234\n",
      "\n",
      "📦 Loading dataset: physionet\n",
      "  ⤷ Using splits: ['split1']\n",
      "🔍 Processing lead I...\n",
      "     15/Unknown - 0s 23ms/step✅ Generator exhausted normally.\n",
      "18/18 [==============================] - 0s 23ms/step\n",
      "🔍 Processing lead II...\n",
      "     17/Unknown - 0s 23ms/step✅ Generator exhausted normally.\n",
      "18/18 [==============================] - 0s 23ms/step\n",
      "🔍 Processing lead III...\n",
      "     17/Unknown - 0s 23ms/step✅ Generator exhausted normally.\n",
      "18/18 [==============================] - 0s 23ms/step\n",
      "🔍 Processing lead aVR...\n",
      "     16/Unknown - 0s 24ms/step✅ Generator exhausted normally.\n",
      "18/18 [==============================] - 0s 24ms/step\n",
      "🔍 Processing lead aVL...\n",
      "     17/Unknown - 0s 23ms/step✅ Generator exhausted normally.\n",
      "18/18 [==============================] - 0s 23ms/step\n",
      "🔍 Processing lead aVF...\n",
      "     16/Unknown - 0s 22ms/step✅ Generator exhausted normally.\n",
      "18/18 [==============================] - 0s 23ms/step\n",
      "🔍 Processing lead V1...\n",
      "     15/Unknown - 0s 23ms/step✅ Generator exhausted normally.\n",
      "18/18 [==============================] - 0s 23ms/step\n",
      "🔍 Processing lead V2...\n",
      "     16/Unknown - 0s 22ms/step✅ Generator exhausted normally.\n",
      "18/18 [==============================] - 0s 21ms/step\n",
      "🔍 Processing lead V3...\n",
      "     17/Unknown - 0s 23ms/step✅ Generator exhausted normally.\n",
      "18/18 [==============================] - 0s 23ms/step\n",
      "🔍 Processing lead V4...\n",
      "     15/Unknown - 0s 22ms/step✅ Generator exhausted normally.\n",
      "18/18 [==============================] - 0s 22ms/step\n",
      "🔍 Processing lead V5...\n",
      "     15/Unknown - 0s 22ms/step✅ Generator exhausted normally.\n",
      "18/18 [==============================] - 0s 23ms/step\n",
      "✅ All leads processed. Final embedding shape: (17650, 234)\n",
      "📐 Total latent dimension: 234\n",
      "<class 'pandas.core.frame.DataFrame'>\n"
     ]
    }
   ],
   "source": [
    "df_physionet_train, ld = Helper.get_embeddings(model_list, dataset_config)\n",
    "#df_physionet_validation, _ = Helper.get_embeddings(model, dataset_physionet_validation)\n",
    "df_physionet_test, _ = Helper.get_embeddings(model_list, dataset_test)\n",
    "\n",
    "df_physionet_train = df_physionet_train[0]\n",
    "#df_physionet_validation = df_physionet_validation[0]\n",
    "df_physionet_test = df_physionet_test[0]\n",
    "print(type(df_physionet_train))\n"
   ]
  },
  {
   "cell_type": "code",
   "execution_count": 7,
   "id": "41877b40",
   "metadata": {},
   "outputs": [
    {
     "name": "stdout",
     "output_type": "stream",
     "text": [
      "🔍 Performing Grid Search...\n"
     ]
    },
    {
     "name": "stdout",
     "output_type": "stream",
     "text": [
      "✅ Best k found: {'estimator__n_neighbors': 9}\n"
     ]
    }
   ],
   "source": [
    "from sklearn.multioutput import MultiOutputClassifier\n",
    "from sklearn.neighbors import KNeighborsClassifier\n",
    "from sklearn.model_selection import GridSearchCV\n",
    "import numpy as np\n",
    "\n",
    "# Prepare feature matrix and labels\n",
    "X_train = df_physionet_train.iloc[:, :ld].values  \n",
    "X_test = df_physionet_test.iloc[:, :ld].values  \n",
    "y_train = np.array(df_physionet_train['diagnostic'].tolist(), dtype=int)  \n",
    "y_test = np.array(df_physionet_test['diagnostic'].tolist(), dtype=int)  \n",
    "\n",
    "# Define KNN model\n",
    "knn = KNeighborsClassifier()\n",
    "\n",
    "# Wrap it inside MultiOutputClassifier\n",
    "multi_label_knn = MultiOutputClassifier(knn, n_jobs=-1)\n",
    "\n",
    "# Define Grid Search parameters for 'k'\n",
    "param_grid = {\n",
    "    \"estimator__n_neighbors\": [3, 5, 7, 9, 11]  # Testing different values of k\n",
    "}\n",
    "\n",
    "# Set up GridSearchCV\n",
    "grid_search = GridSearchCV(\n",
    "    multi_label_knn, param_grid, scoring=\"accuracy\", cv=5, n_jobs=-1\n",
    ")\n",
    "\n",
    "# Perform the Grid Search\n",
    "print(\"🔍 Performing Grid Search...\")\n",
    "grid_search.fit(X_train, y_train)\n",
    "\n",
    "# Best hyperparameter\n",
    "print(\"✅ Best k found:\", grid_search.best_params_)\n",
    "\n",
    "# Use the best model\n",
    "best_knn = grid_search.best_estimator_\n",
    "\n",
    "# Predict using the best model\n",
    "y_pred = best_knn.predict(X_test)\n",
    "\n"
   ]
  },
  {
   "cell_type": "code",
   "execution_count": 8,
   "id": "3379f645",
   "metadata": {},
   "outputs": [
    {
     "name": "stdout",
     "output_type": "stream",
     "text": [
      "✅ Overall Accuracy: 0.41342776203966003\n",
      "✅ F1 Score (Macro): 0.2640622971364346\n",
      "✅ F1 Score (Micro): 0.5536824683768767\n",
      "✅ Classification Report:\n",
      "               precision    recall  f1-score   support\n",
      "\n",
      "           0       0.47      0.22      0.29      1087\n",
      "           1       0.55      0.57      0.56      1641\n",
      "           2       0.62      0.05      0.09       106\n",
      "           3       0.00      0.00      0.00        49\n",
      "           4       0.90      0.54      0.68       323\n",
      "           5       0.88      0.73      0.80       974\n",
      "           6       0.78      0.08      0.14       715\n",
      "           7       1.00      0.01      0.03       356\n",
      "           8       0.64      0.34      0.44      1528\n",
      "           9       0.63      0.31      0.41       459\n",
      "          10       0.00      0.00      0.00        91\n",
      "          11       0.67      0.01      0.01       336\n",
      "          12       0.50      0.00      0.01       346\n",
      "          13       0.50      0.01      0.01       334\n",
      "          14       0.72      0.68      0.70      5741\n",
      "          15       0.40      0.00      0.01       665\n",
      "          16       0.52      0.65      0.58       272\n",
      "          17       0.00      0.00      0.00       135\n",
      "          18       0.42      0.03      0.05       379\n",
      "          19       0.80      0.01      0.02       406\n",
      "          20       0.40      0.05      0.09       263\n",
      "          21       0.76      0.12      0.20       773\n",
      "          22       0.80      0.81      0.80      3780\n",
      "          23       0.80      0.72      0.75      1983\n",
      "          24       0.44      0.08      0.14      2310\n",
      "          25       0.29      0.02      0.03       781\n",
      "\n",
      "   micro avg       0.71      0.45      0.55     25833\n",
      "   macro avg       0.56      0.23      0.26     25833\n",
      "weighted avg       0.65      0.45      0.48     25833\n",
      " samples avg       0.60      0.50      0.53     25833\n",
      "\n"
     ]
    }
   ],
   "source": [
    "from sklearn.metrics import accuracy_score, classification_report, f1_score\n",
    "\n",
    "# Calculate accuracy for each label separately\n",
    "accuracy_per_label = (y_pred == y_test).mean(axis=0)\n",
    "\n",
    "# Calculate overall accuracy (percentage of completely correct multi-label predictions)\n",
    "overall_accuracy = accuracy_score(y_test, y_pred)\n",
    "\n",
    "# Compute F1-score (macro & micro average)\n",
    "f1_macro = f1_score(y_test, y_pred, average=\"macro\")\n",
    "f1_micro = f1_score(y_test, y_pred, average=\"micro\")\n",
    "\n",
    "# Generate classification report\n",
    "class_report = classification_report(y_test, y_pred, target_names=[str(i) for i in range(y_test.shape[1])])\n",
    "\n",
    "# Print evaluation metrics\n",
    "print(\"✅ Overall Accuracy:\", overall_accuracy)\n",
    "print(\"✅ F1 Score (Macro):\", f1_macro)\n",
    "print(\"✅ F1 Score (Micro):\", f1_micro)\n",
    "print(\"✅ Classification Report:\\n\", class_report)"
   ]
  },
  {
   "cell_type": "code",
   "execution_count": 15,
   "id": "6d87e2f7-1c93-4843-b6ca-3df83ceb3b88",
   "metadata": {},
   "outputs": [
    {
     "name": "stdout",
     "output_type": "stream",
     "text": [
      "🚀 Starting training...\n"
     ]
    },
    {
     "name": "stderr",
     "output_type": "stream",
     "text": [
      "Epochs:   7%|▋         | 1/15 [00:02<00:38,  2.77s/it]"
     ]
    },
    {
     "name": "stdout",
     "output_type": "stream",
     "text": [
      "📉 Epoch 1/15 - Train Loss: 0.1543 | Val Loss: 0.1192\n"
     ]
    },
    {
     "name": "stderr",
     "output_type": "stream",
     "text": [
      "Epochs:  13%|█▎        | 2/15 [00:05<00:35,  2.75s/it]"
     ]
    },
    {
     "name": "stdout",
     "output_type": "stream",
     "text": [
      "📉 Epoch 2/15 - Train Loss: 0.1290 | Val Loss: 0.1152\n"
     ]
    },
    {
     "name": "stderr",
     "output_type": "stream",
     "text": [
      "Epochs:  20%|██        | 3/15 [00:08<00:32,  2.74s/it]"
     ]
    },
    {
     "name": "stdout",
     "output_type": "stream",
     "text": [
      "📉 Epoch 3/15 - Train Loss: 0.1254 | Val Loss: 0.1131\n"
     ]
    },
    {
     "name": "stderr",
     "output_type": "stream",
     "text": [
      "Epochs:  27%|██▋       | 4/15 [00:10<00:30,  2.73s/it]"
     ]
    },
    {
     "name": "stdout",
     "output_type": "stream",
     "text": [
      "📉 Epoch 4/15 - Train Loss: 0.1230 | Val Loss: 0.1124\n"
     ]
    },
    {
     "name": "stderr",
     "output_type": "stream",
     "text": [
      "Epochs:  33%|███▎      | 5/15 [00:13<00:27,  2.73s/it]"
     ]
    },
    {
     "name": "stdout",
     "output_type": "stream",
     "text": [
      "📉 Epoch 5/15 - Train Loss: 0.1217 | Val Loss: 0.1117\n"
     ]
    },
    {
     "name": "stderr",
     "output_type": "stream",
     "text": [
      "Epochs:  40%|████      | 6/15 [00:16<00:24,  2.73s/it]"
     ]
    },
    {
     "name": "stdout",
     "output_type": "stream",
     "text": [
      "📉 Epoch 6/15 - Train Loss: 0.1204 | Val Loss: 0.1111\n"
     ]
    },
    {
     "name": "stderr",
     "output_type": "stream",
     "text": [
      "Epochs:  47%|████▋     | 7/15 [00:19<00:21,  2.73s/it]"
     ]
    },
    {
     "name": "stdout",
     "output_type": "stream",
     "text": [
      "📉 Epoch 7/15 - Train Loss: 0.1198 | Val Loss: 0.1100\n"
     ]
    },
    {
     "name": "stderr",
     "output_type": "stream",
     "text": [
      "Epochs:  53%|█████▎    | 8/15 [00:21<00:19,  2.73s/it]"
     ]
    },
    {
     "name": "stdout",
     "output_type": "stream",
     "text": [
      "📉 Epoch 8/15 - Train Loss: 0.1191 | Val Loss: 0.1099\n"
     ]
    },
    {
     "name": "stderr",
     "output_type": "stream",
     "text": [
      "Epochs:  60%|██████    | 9/15 [00:24<00:16,  2.73s/it]"
     ]
    },
    {
     "name": "stdout",
     "output_type": "stream",
     "text": [
      "📉 Epoch 9/15 - Train Loss: 0.1184 | Val Loss: 0.1093\n"
     ]
    },
    {
     "name": "stderr",
     "output_type": "stream",
     "text": [
      "Epochs:  67%|██████▋   | 10/15 [00:27<00:13,  2.73s/it]"
     ]
    },
    {
     "name": "stdout",
     "output_type": "stream",
     "text": [
      "📉 Epoch 10/15 - Train Loss: 0.1180 | Val Loss: 0.1094\n"
     ]
    },
    {
     "name": "stderr",
     "output_type": "stream",
     "text": [
      "Epochs:  73%|███████▎  | 11/15 [00:30<00:10,  2.73s/it]"
     ]
    },
    {
     "name": "stdout",
     "output_type": "stream",
     "text": [
      "📉 Epoch 11/15 - Train Loss: 0.1177 | Val Loss: 0.1089\n"
     ]
    },
    {
     "name": "stderr",
     "output_type": "stream",
     "text": [
      "Epochs:  80%|████████  | 12/15 [00:32<00:08,  2.73s/it]"
     ]
    },
    {
     "name": "stdout",
     "output_type": "stream",
     "text": [
      "📉 Epoch 12/15 - Train Loss: 0.1171 | Val Loss: 0.1091\n"
     ]
    },
    {
     "name": "stderr",
     "output_type": "stream",
     "text": [
      "Epochs:  87%|████████▋ | 13/15 [00:35<00:05,  2.73s/it]"
     ]
    },
    {
     "name": "stdout",
     "output_type": "stream",
     "text": [
      "📉 Epoch 13/15 - Train Loss: 0.1170 | Val Loss: 0.1089\n"
     ]
    },
    {
     "name": "stderr",
     "output_type": "stream",
     "text": [
      "Epochs:  93%|█████████▎| 14/15 [00:38<00:02,  2.72s/it]"
     ]
    },
    {
     "name": "stdout",
     "output_type": "stream",
     "text": [
      "📉 Epoch 14/15 - Train Loss: 0.1166 | Val Loss: 0.1086\n"
     ]
    },
    {
     "name": "stderr",
     "output_type": "stream",
     "text": [
      "Epochs: 100%|██████████| 15/15 [00:40<00:00,  2.73s/it]"
     ]
    },
    {
     "name": "stdout",
     "output_type": "stream",
     "text": [
      "📉 Epoch 15/15 - Train Loss: 0.1164 | Val Loss: 0.1085\n",
      "📈 Saved training+validation loss plot as 'vae_train_val_loss.png'\n"
     ]
    },
    {
     "name": "stderr",
     "output_type": "stream",
     "text": [
      "\n"
     ]
    },
    {
     "data": {
      "image/png": "[encoded data removed]",
      "text/plain": [
       "<Figure size 800x500 with 1 Axes>"
      ]
     },
     "metadata": {},
     "output_type": "display_data"
    }
   ],
   "source": [
    "import torch\n",
    "import torch.nn as nn\n",
    "import torch.optim as optim\n",
    "from torch.utils.data import TensorDataset, DataLoader, random_split\n",
    "from tqdm import tqdm\n",
    "import matplotlib.pyplot as plt\n",
    "from sklearn.metrics import accuracy_score\n",
    "from analysis.nn_model import EmbeddingClassifier\n",
    "\n",
    "# Prepare feature matrix and labels\n",
    "X_train = df_physionet_train.iloc[:, :ld].values  \n",
    "X_test = df_physionet_test.iloc[:, :ld].values  \n",
    "y_train = np.array(df_physionet_train['diagnostic'].tolist(), dtype=int)  \n",
    "y_test = np.array(df_physionet_test['diagnostic'].tolist(), dtype=int)  \n",
    "\n",
    "# Convert to PyTorch tensors\n",
    "X_train_tensor = torch.tensor(X_train, dtype=torch.float32)\n",
    "y_train_tensor = torch.tensor(y_train, dtype=torch.float32)  # note: float for BCE loss\n",
    "X_test_tensor = torch.tensor(X_test, dtype=torch.float32)\n",
    "y_test_tensor = torch.tensor(y_test, dtype=torch.float32)\n",
    "\n",
    "# Split into train and validation sets\n",
    "val_ratio = 0.2\n",
    "total_samples = X_train_tensor.size(0)\n",
    "val_size = int(val_ratio * total_samples)\n",
    "train_size = total_samples - val_size\n",
    "\n",
    "train_dataset, val_dataset = random_split(\n",
    "    TensorDataset(X_train_tensor, y_train_tensor),\n",
    "    [train_size, val_size],\n",
    "    generator=torch.Generator().manual_seed(42)  # for reproducibility\n",
    ")\n",
    "\n",
    "train_loader = DataLoader(train_dataset, batch_size=64, shuffle=True)\n",
    "val_loader = DataLoader(val_dataset, batch_size=64, shuffle=False)\n",
    "\n",
    "# Init model\n",
    "input_dim = X_train.shape[1]\n",
    "output_dim = y_train.shape[1]\n",
    "model = EmbeddingClassifier(input_dim=input_dim, output_dim=output_dim)\n",
    "\n",
    "# Loss and optimizer\n",
    "criterion = nn.BCEWithLogitsLoss()\n",
    "optimizer = optim.Adam(model.parameters(), lr=0.001, weight_decay=0.5e-5)\n",
    "scheduler = torch.optim.lr_scheduler.ReduceLROnPlateau(optimizer, 'min', patience=3, factor=0.5)\n",
    "\n",
    "# Training loop\n",
    "epochs = 15\n",
    "train_losses = []\n",
    "val_losses = []\n",
    "\n",
    "print(\"🚀 Starting training...\")\n",
    "for epoch in tqdm(range(epochs), desc=\"Epochs\"):\n",
    "    model.train()\n",
    "    total_train_loss = 0\n",
    "    for xb, yb in train_loader:\n",
    "        optimizer.zero_grad()\n",
    "        output = model(xb)\n",
    "        loss = criterion(output, yb)\n",
    "        loss.backward()\n",
    "        optimizer.step()\n",
    "        total_train_loss += loss.item()\n",
    "    \n",
    "    avg_train_loss = total_train_loss / len(train_loader)\n",
    "    train_losses.append(avg_train_loss)\n",
    "\n",
    "    # Validation loop\n",
    "    model.eval()\n",
    "    total_val_loss = 0\n",
    "    with torch.no_grad():\n",
    "        for xb, yb in val_loader:\n",
    "            output = model(xb)\n",
    "            loss = criterion(output, yb)\n",
    "            total_val_loss += loss.item()\n",
    "    avg_val_loss = total_val_loss / len(val_loader)\n",
    "    val_losses.append(avg_val_loss)\n",
    "    scheduler.step(avg_val_loss)\n",
    "\n",
    "    print(f\"📉 Epoch {epoch+1}/{epochs} - Train Loss: {avg_train_loss:.4f} | Val Loss: {avg_val_loss:.4f}\")\n",
    "\n",
    "# Plot and save loss curves\n",
    "plt.figure(figsize=(8, 5))\n",
    "plt.plot(range(1, epochs + 1), train_losses, marker='o', label='Train Loss')\n",
    "plt.plot(range(1, epochs + 1), val_losses, marker='s', label='Val Loss')\n",
    "plt.title(\"Training & Validation Loss Over Epochs\")\n",
    "plt.xlabel(\"Epoch\")\n",
    "plt.ylabel(\"Loss\")\n",
    "plt.grid(True)\n",
    "plt.legend()\n",
    "plt.tight_layout()\n",
    "plt.savefig(\"vae_train_val_loss.png\")\n",
    "print(\"📈 Saved training+validation loss plot as 'vae_train_val_loss.png'\")\n"
   ]
  },
  {
   "cell_type": "code",
   "execution_count": 16,
   "id": "48c76e8f",
   "metadata": {},
   "outputs": [],
   "source": [
    "from sklearn.metrics import f1_score\n",
    "import numpy as np\n",
    "\n",
    "# Get probabilities from model\n",
    "with torch.no_grad():\n",
    "    logits = model(X_train_tensor)\n",
    "    probs_val = torch.sigmoid(logits).cpu().numpy()\n",
    "\n",
    "# Ground truth\n",
    "y_train = y_train_tensor.cpu().numpy()\n",
    "\n",
    "# Search for optimal thresholds (grid search over 0.0–1.0)\n",
    "best_thresholds = []\n",
    "for i in range(y_train.shape[1]):\n",
    "    best_f1 = 0\n",
    "    best_thresh = 0.5\n",
    "    for t in np.linspace(0.1, 0.9, 17):  # test thresholds from 0.1 to 0.9\n",
    "        preds = (probs_val[:, i] > t).astype(int)\n",
    "        f1 = f1_score(y_train[:, i], preds, zero_division=0)\n",
    "        if f1 > best_f1:\n",
    "            best_f1 = f1\n",
    "            best_thresh = t\n",
    "    best_thresholds.append(best_thresh)\n",
    "\n",
    "best_thresholds = np.array(best_thresholds)\n"
   ]
  },
  {
   "cell_type": "code",
   "execution_count": 17,
   "id": "3da6ea80",
   "metadata": {},
   "outputs": [
    {
     "name": "stdout",
     "output_type": "stream",
     "text": [
      "✅ Overall Accuracy: 0.328271954674221\n",
      "✅ F1 Score (Macro): 0.375977826571665\n",
      "✅ F1 Score (Micro): 0.5749443732722002\n",
      "✅ Classification Report:\n",
      "               precision    recall  f1-score   support\n",
      "\n",
      "           0       0.40      0.70      0.50      1087\n",
      "           1       0.50      0.81      0.62      1641\n",
      "           2       0.11      0.23      0.15       106\n",
      "           3       0.00      0.00      0.00        49\n",
      "           4       0.77      0.67      0.71       323\n",
      "           5       0.85      0.80      0.82       974\n",
      "           6       0.39      0.50      0.44       715\n",
      "           7       0.21      0.42      0.28       356\n",
      "           8       0.51      0.72      0.60      1528\n",
      "           9       0.49      0.57      0.53       459\n",
      "          10       0.12      0.09      0.10        91\n",
      "          11       0.00      0.00      0.00       336\n",
      "          12       0.11      0.21      0.14       346\n",
      "          13       0.10      0.10      0.10       334\n",
      "          14       0.67      0.81      0.74      5741\n",
      "          15       0.14      0.08      0.10       665\n",
      "          16       0.74      0.58      0.65       272\n",
      "          17       0.03      0.02      0.03       135\n",
      "          18       0.14      0.30      0.19       379\n",
      "          19       0.10      0.07      0.08       406\n",
      "          20       0.34      0.58      0.43       263\n",
      "          21       0.24      0.31      0.27       773\n",
      "          22       0.78      0.87      0.83      3780\n",
      "          23       0.79      0.83      0.81      1983\n",
      "          24       0.31      0.58      0.40      2310\n",
      "          25       0.19      0.36      0.25       781\n",
      "\n",
      "   micro avg       0.51      0.66      0.57     25833\n",
      "   macro avg       0.35      0.43      0.38     25833\n",
      "weighted avg       0.53      0.66      0.58     25833\n",
      " samples avg       0.59      0.67      0.59     25833\n",
      "\n"
     ]
    }
   ],
   "source": [
    "import numpy as np\n",
    "from sklearn.metrics import classification_report, f1_score, accuracy_score\n",
    "\n",
    "# Put model in evaluation mode\n",
    "model.eval()\n",
    "\n",
    "# Get predictions\n",
    "with torch.no_grad():\n",
    "    logits = model(X_test_tensor)\n",
    "    probs = torch.sigmoid(logits)\n",
    "    # Make sure best_thresholds is a torch tensor, same shape as probs\n",
    "    thresholds_tensor = torch.tensor(best_thresholds, dtype=torch.float32).to(probs.device)\n",
    "\n",
    "    # Apply thresholds with broadcasting\n",
    "    y_pred = (probs > thresholds_tensor).int().cpu().numpy()\n",
    "# Convert ground truth to numpy (if it's still a tensor)\n",
    "y_true = y_test_tensor.cpu().numpy()\n",
    "\n",
    "# Compute metrics\n",
    "f1_macro = f1_score(y_true, y_pred, average='macro', zero_division=0)\n",
    "f1_micro = f1_score(y_true, y_pred, average='micro', zero_division=0)\n",
    "overall_accuracy = accuracy_score(y_true, y_pred)\n",
    "\n",
    "# Generate classification report (per label)\n",
    "class_report = classification_report(\n",
    "    y_true, y_pred,\n",
    "    target_names=[str(i) for i in range(y_true.shape[1])],\n",
    "    zero_division=0\n",
    ")\n",
    "\n",
    "# Print results\n",
    "print(\"✅ Overall Accuracy:\", overall_accuracy)\n",
    "print(\"✅ F1 Score (Macro):\", f1_macro)\n",
    "print(\"✅ F1 Score (Micro):\", f1_micro)\n",
    "print(\"✅ Classification Report:\\n\", class_report)"
   ]
  }
 ],
 "metadata": {
  "kernelspec": {
   "display_name": "my_env",
   "language": "python",
   "name": "python3"
  },
  "language_info": {
   "codemirror_mode": {
    "name": "ipython",
    "version": 3
   },
   "file_extension": ".py",
   "mimetype": "text/x-python",
   "name": "python",
   "nbconvert_exporter": "python",
   "pygments_lexer": "ipython3",
   "version": "3.10.16"
  }
 },
 "nbformat": 4,
 "nbformat_minor": 5
}
