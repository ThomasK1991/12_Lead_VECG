{
 "cells": [
  {
   "cell_type": "markdown",
   "metadata": {},
   "source": [
    "# **Disentangled Representational Learning of Single Lead Electrocardiogram Signals using Variational Autoencoder**"
   ]
  },
  {
   "cell_type": "markdown",
   "metadata": {},
   "source": [
    "This notebook evaluates the properties and accuracy of the trained VECG model in several aspects. The structure follows the three main objectives:\n",
    "\n",
    "1. investigation of **Disentanglement**\n",
    "2. evaluation of **Anomaly Detection** accuracy and explainability\n",
    "3. improvements through the use of **Personalization**\n",
    "\n",
    "The results are summarized in a corresponding article, which the authors ask to be cited when using the results of this work."
   ]
  },
  {
   "cell_type": "markdown",
   "metadata": {},
   "source": [
    "## General\n",
    "\n",
    "This section of for imports, getting an overview of all experiments, and loading the most suitable model."
   ]
  },
  {
   "cell_type": "code",
   "execution_count": 1,
   "metadata": {},
   "outputs": [
    {
     "name": "stderr",
     "output_type": "stream",
     "text": [
      "2025-04-05 16:27:27.653374: I tensorflow/core/util/port.cc:111] oneDNN custom operations are on. You may see slightly different numerical results due to floating-point round-off errors from different computation orders. To turn them off, set the environment variable `TF_ENABLE_ONEDNN_OPTS=0`.\n",
      "2025-04-05 16:27:27.659114: I tensorflow/tsl/cuda/cudart_stub.cc:28] Could not find cuda drivers on your machine, GPU will not be used.\n",
      "2025-04-05 16:27:27.699660: E tensorflow/compiler/xla/stream_executor/cuda/cuda_dnn.cc:9342] Unable to register cuDNN factory: Attempting to register factory for plugin cuDNN when one has already been registered\n",
      "2025-04-05 16:27:27.699704: E tensorflow/compiler/xla/stream_executor/cuda/cuda_fft.cc:609] Unable to register cuFFT factory: Attempting to register factory for plugin cuFFT when one has already been registered\n",
      "2025-04-05 16:27:27.699732: E tensorflow/compiler/xla/stream_executor/cuda/cuda_blas.cc:1518] Unable to register cuBLAS factory: Attempting to register factory for plugin cuBLAS when one has already been registered\n",
      "2025-04-05 16:27:27.707801: I tensorflow/tsl/cuda/cudart_stub.cc:28] Could not find cuda drivers on your machine, GPU will not be used.\n",
      "2025-04-05 16:27:27.713265: I tensorflow/core/platform/cpu_feature_guard.cc:182] This TensorFlow binary is optimized to use available CPU instructions in performance-critical operations.\n",
      "To enable the following instructions: AVX2 AVX512F AVX512_VNNI FMA, in other operations, rebuild TensorFlow with the appropriate compiler flags.\n",
      "2025-04-05 16:27:29.216676: W tensorflow/compiler/tf2tensorrt/utils/py_utils.cc:38] TF-TRT Warning: Could not find TensorRT\n"
     ]
    },
    {
     "name": "stdout",
     "output_type": "stream",
     "text": [
      "📂 Project Root: /users/newc6477/VAE/12_Lead_VECG\n",
      "✅ Updated sys.path:\n",
      "['/users/newc6477/Benchmark_ISIBrno/ENTER/envs/my_env/lib/python310.zip', '/users/newc6477/Benchmark_ISIBrno/ENTER/envs/my_env/lib/python3.10', '/users/newc6477/Benchmark_ISIBrno/ENTER/envs/my_env/lib/python3.10/lib-dynload', '', '/users/newc6477/Benchmark_ISIBrno/ENTER/envs/my_env/lib/python3.10/site-packages', '/users/newc6477/Benchmark_ISIBrno/ENTER/envs/my_env/lib/python3.10/site-packages/setuptools/_vendor', '/users/newc6477/VAE/12_Lead_VECG', '/users/newc6477/VAE/12_Lead_VECG/src']\n",
      "✅ Successfully imported `Helper` and `Visualizations`\n"
     ]
    }
   ],
   "source": [
    "import sys\n",
    "import os\n",
    "import warnings\n",
    "import logging\n",
    "from absl import logging as absl_logging\n",
    "import json\n",
    "import tensorflow as tf\n",
    "\n",
    "# ✅ Ensure Correct TensorFlow Configuration\n",
    "os.environ['TFDS_DATA_DIR'] = r\"/data/newc6477/VAE/Single_Beat/15_percent_Physionet/\"\n",
    "os.environ['TF_ENABLE_ONEDNN_OPTS'] = \"0\"\n",
    "os.environ[\"TF_CPP_MIN_LOG_LEVEL\"] = \"1\"\n",
    "\n",
    "# ✅ Ensure Correct Working Directory\n",
    "PROJECT_ROOT = os.path.abspath(os.path.join(os.getcwd(), \"..\"))\n",
    "if PROJECT_ROOT not in sys.path:\n",
    "    sys.path.append(PROJECT_ROOT)\n",
    "\n",
    "print(f\"📂 Project Root: {PROJECT_ROOT}\")\n",
    "\n",
    "# ✅ Ensure `src/` is in Python's Path\n",
    "SRC_DIR = os.path.join(PROJECT_ROOT, \"src\")\n",
    "if SRC_DIR not in sys.path:\n",
    "    sys.path.append(SRC_DIR)\n",
    "\n",
    "print(f\"✅ Updated sys.path:\\n{sys.path}\")\n",
    "\n",
    "# ✅ Suppress Warnings\n",
    "warnings.filterwarnings('ignore')\n",
    "warnings.simplefilter(action='ignore', category=FutureWarning)\n",
    "absl_logging.set_verbosity(absl_logging.ERROR)\n",
    "\n",
    "# ✅ Import Modules\n",
    "try:\n",
    "    from src.utils.helper import Helper\n",
    "    from src.evaluate.visualizations import Visualizations\n",
    "    print(\"✅ Successfully imported `Helper` and `Visualizations`\")\n",
    "except ModuleNotFoundError as e:\n",
    "    print(f\"❌ Import Error: {e}\")\n",
    "    print(\"🔍 Check if `src/` has `__init__.py` and is in `sys.path`.\")\n",
    "\n",
    "# ✅ Import Other Required Libraries\n",
    "import pandas as pd\n",
    "import numpy as np\n",
    "import glob\n",
    "from neurokit2.signal import signal_smooth\n",
    "\n",
    "from sklearn.manifold import TSNE\n",
    "from sklearn.model_selection import train_test_split\n",
    "\n",
    "import ipywidgets as widgets\n",
    "from matplotlib import pyplot as plt\n",
    "import seaborn as sns\n",
    "\n"
   ]
  },
  {
   "cell_type": "code",
   "execution_count": 2,
   "metadata": {},
   "outputs": [],
   "source": [
    "# The resolution for saving images\n",
    "DPI = 300\n",
    "\n",
    "# The source path of the experiments and models\n",
    "PATH = r\"/users/newc6477/VAE/12_Lead_VECG/results/full_15/test_is_split1\"\n",
    "\n",
    "# Some operations take some time in computation.\n",
    "# Therefore, the stored intermediate results can be used to skip the respective computation.\n",
    "USE_PRECOMPUTED = True"
   ]
  },
  {
   "cell_type": "markdown",
   "metadata": {},
   "source": [
    "Whenever a dataset is used within this work, e.g., for loading or embedding, it needs to be declared as a dictionary. The keys are a name (array of datasets to be loaded), the split, the shuffle size, and the batch size."
   ]
  },
  {
   "cell_type": "code",
   "execution_count": 4,
   "metadata": {},
   "outputs": [
    {
     "name": "stdout",
     "output_type": "stream",
     "text": [
      "✅ Loading model for I from /users/newc6477/VAE/12_Lead_VECG/results/full_15/test_is_split1/I/2025-04-02_22-42-54/model_best.keras\n",
      "✅ Loading model for II from /users/newc6477/VAE/12_Lead_VECG/results/full_15/test_is_split1/II/2025-04-03_02-02-15/model_best.keras\n",
      "✅ Loading model for III from /users/newc6477/VAE/12_Lead_VECG/results/full_15/test_is_split1/III/2025-04-03_07-36-41/model_best.keras\n",
      "✅ Loading model for aVR from /users/newc6477/VAE/12_Lead_VECG/results/full_15/test_is_split1/aVR/2025-04-03_11-04-51/model_best.keras\n",
      "✅ Loading model for aVF from /users/newc6477/VAE/12_Lead_VECG/results/full_15/test_is_split1/aVF/2025-04-03_15-57-48/model_best.keras\n",
      "✅ Loading model for V1 from /users/newc6477/VAE/12_Lead_VECG/results/full_15/test_is_split1/V1/2025-04-03_21-35-05/model_best.keras\n",
      "✅ Loading model for V2 from /users/newc6477/VAE/12_Lead_VECG/results/full_15/test_is_split1/V2/2025-04-03_14-48-29/model_best.keras\n",
      "✅ Loading model for V3 from /users/newc6477/VAE/12_Lead_VECG/results/full_15/test_is_split1/V3/2025-04-03_15-47-52/model_best.keras\n",
      "✅ Loading model for V4 from /users/newc6477/VAE/12_Lead_VECG/results/full_15/test_is_split1/V4/2025-04-02_23-37-54/model_best.keras\n",
      "✅ Loading model for V5 from /users/newc6477/VAE/12_Lead_VECG/results/full_15/test_is_split1/V5/2025-04-03_02-59-20/model_best.keras\n",
      "✅ Loading model for V6 from /users/newc6477/VAE/12_Lead_VECG/results/full_15/test_is_split1/V6/2025-04-03_07-18-08/model_best.keras\n"
     ]
    }
   ],
   "source": [
    "BASE = '/users/newc6477/VAE/12_Lead_VECG/results/full_15/test_is_split1'\n",
    "\n",
    "# Path to the JSON file containing best timestamps for each lead\n",
    "json_path = \"best_folders.json\"\n",
    "\n",
    "# Load best folder names from JSON\n",
    "with open(json_path, \"r\") as f:\n",
    "    best_folders = json.load(f)\n",
    "\n",
    "# Load models dynamically into a dictionary\n",
    "models = {}\n",
    "for lead_key, folder in best_folders.items():\n",
    "    # Strip \"lead_\" prefix → \"lead_I\" → \"I\"\n",
    "    lead = lead_key.replace(\"lead_\", \"\")\n",
    "    \n",
    "    model_path = os.path.join(BASE, lead, folder, \"model_best.keras\")\n",
    "    if os.path.exists(model_path):\n",
    "        print(f\"✅ Loading model for {lead} from {model_path}\")\n",
    "        models[lead] = tf.keras.models.load_model(model_path, compile=False)\n",
    "    else:\n",
    "        print(f\"❌ Warning: Model not found for {lead} at {model_path}\")\n",
    "\n",
    "\n",
    "# If needed, convert to a list\n",
    "model_list = list(models.values())\n"
   ]
  },
  {
   "cell_type": "code",
   "execution_count": 7,
   "metadata": {},
   "outputs": [],
   "source": [
    "train_splits = ['split2', 'split3', 'split4', 'split5']\n",
    "dataset_config = {\n",
    "    'name': ['physionet'],\n",
    "    'split': train_splits,\n",
    "    'shuffle_size': 1024,\n",
    "    'batch_size': 1024,\n",
    "}\n",
    "test_splits = ['split1']\n",
    "dataset_test = {\n",
    "    'name': ['physionet'],\n",
    "    'split': test_splits,\n",
    "    'shuffle_size': 1024,\n",
    "    'batch_size': 1024,\n",
    "}"
   ]
  },
  {
   "cell_type": "code",
   "execution_count": 8,
   "metadata": {},
   "outputs": [
    {
     "name": "stdout",
     "output_type": "stream",
     "text": [
      "\n",
      "📦 Loading dataset: physionet\n",
      "  ⤷ Using splits: ['split2', 'split3', 'split4', 'split5']\n",
      "🔍 Processing lead I...\n"
     ]
    },
    {
     "ename": "AttributeError",
     "evalue": "'str' object has no attribute '_encoder'",
     "output_type": "error",
     "traceback": [
      "\u001b[0;31m---------------------------------------------------------------------------\u001b[0m",
      "\u001b[0;31mAttributeError\u001b[0m                            Traceback (most recent call last)",
      "Cell \u001b[0;32mIn[8], line 1\u001b[0m\n\u001b[0;32m----> 1\u001b[0m df_physionet_train, ld \u001b[38;5;241m=\u001b[39m \u001b[43mHelper\u001b[49m\u001b[38;5;241;43m.\u001b[39;49m\u001b[43mget_embeddings\u001b[49m\u001b[43m(\u001b[49m\u001b[43mmodels\u001b[49m\u001b[43m,\u001b[49m\u001b[43m \u001b[49m\u001b[43mdataset_config\u001b[49m\u001b[43m)\u001b[49m\n\u001b[1;32m      2\u001b[0m \u001b[38;5;66;03m#df_physionet_validation, _ = Helper.get_embeddings(model, dataset_physionet_validation)\u001b[39;00m\n\u001b[1;32m      3\u001b[0m df_physionet_test, _ \u001b[38;5;241m=\u001b[39m Helper\u001b[38;5;241m.\u001b[39mget_embeddings(models, dataset_test)\n",
      "File \u001b[0;32m~/VAE/12_Lead_VECG/src/utils/helper.py:438\u001b[0m, in \u001b[0;36mHelper.get_embeddings\u001b[0;34m(models, datasets)\u001b[0m\n\u001b[1;32m    435\u001b[0m \u001b[38;5;28;01mfor\u001b[39;00m lead, model \u001b[38;5;129;01min\u001b[39;00m \u001b[38;5;28mzip\u001b[39m(lead_names, models):\n\u001b[1;32m    436\u001b[0m     \u001b[38;5;28mprint\u001b[39m(\u001b[38;5;124mf\u001b[39m\u001b[38;5;124m\"\u001b[39m\u001b[38;5;124m🔍 Processing lead \u001b[39m\u001b[38;5;132;01m{\u001b[39;00mlead\u001b[38;5;132;01m}\u001b[39;00m\u001b[38;5;124m...\u001b[39m\u001b[38;5;124m\"\u001b[39m)\n\u001b[0;32m--> 438\u001b[0m     df \u001b[38;5;241m=\u001b[39m \u001b[43mmodel\u001b[49m\u001b[38;5;241;43m.\u001b[39;49m\u001b[43m_encoder\u001b[49m\u001b[38;5;241m.\u001b[39mpredict(Helper\u001b[38;5;241m.\u001b[39mdata_generator([train], lead\u001b[38;5;241m=\u001b[39mlead, method\u001b[38;5;241m=\u001b[39m\u001b[38;5;124m'\u001b[39m\u001b[38;5;124mstop\u001b[39m\u001b[38;5;124m'\u001b[39m))\n\u001b[1;32m    439\u001b[0m     df \u001b[38;5;241m=\u001b[39m df[\u001b[38;5;241m0\u001b[39m]  \u001b[38;5;66;03m# Extract embeddings\u001b[39;00m\n\u001b[1;32m    440\u001b[0m     ld \u001b[38;5;241m=\u001b[39m df\u001b[38;5;241m.\u001b[39mshape[\u001b[38;5;241m1\u001b[39m]\n",
      "\u001b[0;31mAttributeError\u001b[0m: 'str' object has no attribute '_encoder'"
     ]
    }
   ],
   "source": [
    "df_physionet_train, ld = Helper.get_embeddings(models, dataset_config)\n",
    "#df_physionet_validation, _ = Helper.get_embeddings(model, dataset_physionet_validation)\n",
    "df_physionet_test, _ = Helper.get_embeddings(models, dataset_test)\n",
    "\n",
    "df_physionet_train = df_physionet_train[0]\n",
    "#df_physionet_validation = df_physionet_validation[0]\n",
    "df_physionet_test = df_physionet_test[0]\n",
    "print(type(df_physionet_train))\n"
   ]
  },
  {
   "cell_type": "code",
   "execution_count": null,
   "metadata": {},
   "outputs": [
    {
     "name": "stdout",
     "output_type": "stream",
     "text": [
      "🔍 Performing Grid Search...\n",
      "✅ Best k found: {'estimator__n_neighbors': 3}\n"
     ]
    }
   ],
   "source": [
    "from sklearn.multioutput import MultiOutputClassifier\n",
    "from sklearn.neighbors import KNeighborsClassifier\n",
    "from sklearn.model_selection import GridSearchCV\n",
    "import numpy as np\n",
    "\n",
    "# Prepare feature matrix and labels\n",
    "X_train = df_physionet_train.iloc[:, :ld].values  \n",
    "X_test = df_physionet_test.iloc[:, :ld].values  \n",
    "y_train = np.array(df_physionet_train['diagnostic'].tolist(), dtype=int)  \n",
    "y_test = np.array(df_physionet_test['diagnostic'].tolist(), dtype=int)  \n",
    "\n",
    "# Define KNN model\n",
    "knn = KNeighborsClassifier()\n",
    "\n",
    "# Wrap it inside MultiOutputClassifier\n",
    "multi_label_knn = MultiOutputClassifier(knn, n_jobs=-1)\n",
    "\n",
    "# Define Grid Search parameters for 'k'\n",
    "param_grid = {\n",
    "    \"estimator__n_neighbors\": [3, 5, 7, 9, 11]  # Testing different values of k\n",
    "}\n",
    "\n",
    "# Set up GridSearchCV\n",
    "grid_search = GridSearchCV(\n",
    "    multi_label_knn, param_grid, scoring=\"accuracy\", cv=5, n_jobs=-1\n",
    ")\n",
    "\n",
    "# Perform the Grid Search\n",
    "print(\"🔍 Performing Grid Search...\")\n",
    "grid_search.fit(X_train, y_train)\n",
    "\n",
    "# Best hyperparameter\n",
    "print(\"✅ Best k found:\", grid_search.best_params_)\n",
    "\n",
    "# Use the best model\n",
    "best_knn = grid_search.best_estimator_\n",
    "\n",
    "# Predict using the best model\n",
    "y_pred = best_knn.predict(X_test)\n",
    "\n"
   ]
  },
  {
   "cell_type": "code",
   "execution_count": null,
   "metadata": {},
   "outputs": [
    {
     "name": "stdout",
     "output_type": "stream",
     "text": [
      "✅ Overall Accuracy: 0.28701067615658366\n",
      "✅ F1 Score (Macro): 0.18481069405830997\n",
      "✅ F1 Score (Micro): 0.38977989160491094\n",
      "✅ Classification Report:\n",
      "               precision    recall  f1-score   support\n",
      "\n",
      "           0       0.35      0.21      0.27       791\n",
      "           1       0.44      0.35      0.39      1155\n",
      "           2       0.04      0.00      0.01       272\n",
      "           3       0.00      0.00      0.00         6\n",
      "           4       0.38      0.12      0.18       124\n",
      "           5       0.67      0.53      0.60       580\n",
      "           6       0.26      0.13      0.18       319\n",
      "           7       0.03      0.02      0.02       186\n",
      "           8       0.31      0.30      0.30       740\n",
      "           9       0.29      0.18      0.22       249\n",
      "          10       0.00      0.00      0.00        30\n",
      "          11       0.03      0.01      0.01       208\n",
      "          12       0.03      0.01      0.02       222\n",
      "          13       0.00      0.00      0.00       128\n",
      "          14       0.53      0.56      0.55      3135\n",
      "          15       0.11      0.03      0.05       574\n",
      "          16       0.15      0.66      0.24        89\n",
      "          17       0.10      0.01      0.02        99\n",
      "          18       0.07      0.10      0.08       164\n",
      "          19       0.14      0.06      0.08       261\n",
      "          20       0.05      0.03      0.04       203\n",
      "          21       0.07      0.09      0.08       296\n",
      "          22       0.58      0.74      0.65      1247\n",
      "          23       0.55      0.72      0.63      1473\n",
      "          24       0.18      0.15      0.16      1229\n",
      "          25       0.03      0.04      0.03       288\n",
      "\n",
      "   micro avg       0.40      0.38      0.39     14068\n",
      "   macro avg       0.21      0.20      0.18     14068\n",
      "weighted avg       0.37      0.38      0.37     14068\n",
      " samples avg       0.38      0.35      0.35     14068\n",
      "\n"
     ]
    }
   ],
   "source": [
    "from sklearn.metrics import accuracy_score, classification_report, f1_score\n",
    "\n",
    "# Calculate accuracy for each label separately\n",
    "accuracy_per_label = (y_pred == y_test).mean(axis=0)\n",
    "\n",
    "# Calculate overall accuracy (percentage of completely correct multi-label predictions)\n",
    "overall_accuracy = accuracy_score(y_test, y_pred)\n",
    "\n",
    "# Compute F1-score (macro & micro average)\n",
    "f1_macro = f1_score(y_test, y_pred, average=\"macro\")\n",
    "f1_micro = f1_score(y_test, y_pred, average=\"micro\")\n",
    "\n",
    "# Generate classification report\n",
    "class_report = classification_report(y_test, y_pred, target_names=[str(i) for i in range(y_test.shape[1])])\n",
    "\n",
    "# Print evaluation metrics\n",
    "print(\"✅ Overall Accuracy:\", overall_accuracy)\n",
    "print(\"✅ F1 Score (Macro):\", f1_macro)\n",
    "print(\"✅ F1 Score (Micro):\", f1_micro)\n",
    "print(\"✅ Classification Report:\\n\", class_report)"
   ]
  },
  {
   "cell_type": "code",
   "execution_count": null,
   "metadata": {},
   "outputs": [
    {
     "name": "stdout",
     "output_type": "stream",
     "text": [
      "🚀 Starting training...\n"
     ]
    },
    {
     "name": "stderr",
     "output_type": "stream",
     "text": [
      "Epochs:   7%|▋         | 1/15 [00:02<00:32,  2.35s/it]"
     ]
    },
    {
     "name": "stdout",
     "output_type": "stream",
     "text": [
      "📉 Epoch 1/15 - Train Loss: 0.1199 | Val Loss: 0.0866\n"
     ]
    },
    {
     "name": "stderr",
     "output_type": "stream",
     "text": [
      "Epochs:  13%|█▎        | 2/15 [00:04<00:30,  2.35s/it]"
     ]
    },
    {
     "name": "stdout",
     "output_type": "stream",
     "text": [
      "📉 Epoch 2/15 - Train Loss: 0.0770 | Val Loss: 0.0735\n"
     ]
    },
    {
     "name": "stderr",
     "output_type": "stream",
     "text": [
      "Epochs:  20%|██        | 3/15 [00:07<00:28,  2.34s/it]"
     ]
    },
    {
     "name": "stdout",
     "output_type": "stream",
     "text": [
      "📉 Epoch 3/15 - Train Loss: 0.0631 | Val Loss: 0.0654\n"
     ]
    },
    {
     "name": "stderr",
     "output_type": "stream",
     "text": [
      "Epochs:  27%|██▋       | 4/15 [00:09<00:25,  2.34s/it]"
     ]
    },
    {
     "name": "stdout",
     "output_type": "stream",
     "text": [
      "📉 Epoch 4/15 - Train Loss: 0.0529 | Val Loss: 0.0591\n"
     ]
    },
    {
     "name": "stderr",
     "output_type": "stream",
     "text": [
      "Epochs:  33%|███▎      | 5/15 [00:11<00:23,  2.34s/it]"
     ]
    },
    {
     "name": "stdout",
     "output_type": "stream",
     "text": [
      "📉 Epoch 5/15 - Train Loss: 0.0453 | Val Loss: 0.0562\n"
     ]
    },
    {
     "name": "stderr",
     "output_type": "stream",
     "text": [
      "Epochs:  40%|████      | 6/15 [00:14<00:21,  2.34s/it]"
     ]
    },
    {
     "name": "stdout",
     "output_type": "stream",
     "text": [
      "📉 Epoch 6/15 - Train Loss: 0.0396 | Val Loss: 0.0536\n"
     ]
    },
    {
     "name": "stderr",
     "output_type": "stream",
     "text": [
      "Epochs:  47%|████▋     | 7/15 [00:16<00:18,  2.34s/it]"
     ]
    },
    {
     "name": "stdout",
     "output_type": "stream",
     "text": [
      "📉 Epoch 7/15 - Train Loss: 0.0351 | Val Loss: 0.0530\n"
     ]
    },
    {
     "name": "stderr",
     "output_type": "stream",
     "text": [
      "Epochs:  53%|█████▎    | 8/15 [00:18<00:16,  2.34s/it]"
     ]
    },
    {
     "name": "stdout",
     "output_type": "stream",
     "text": [
      "📉 Epoch 8/15 - Train Loss: 0.0314 | Val Loss: 0.0528\n"
     ]
    },
    {
     "name": "stderr",
     "output_type": "stream",
     "text": [
      "Epochs:  60%|██████    | 9/15 [00:21<00:14,  2.34s/it]"
     ]
    },
    {
     "name": "stdout",
     "output_type": "stream",
     "text": [
      "📉 Epoch 9/15 - Train Loss: 0.0282 | Val Loss: 0.0533\n"
     ]
    },
    {
     "name": "stderr",
     "output_type": "stream",
     "text": [
      "Epochs:  67%|██████▋   | 10/15 [00:23<00:11,  2.34s/it]"
     ]
    },
    {
     "name": "stdout",
     "output_type": "stream",
     "text": [
      "📉 Epoch 10/15 - Train Loss: 0.0256 | Val Loss: 0.0517\n"
     ]
    },
    {
     "name": "stderr",
     "output_type": "stream",
     "text": [
      "Epochs:  73%|███████▎  | 11/15 [00:25<00:09,  2.34s/it]"
     ]
    },
    {
     "name": "stdout",
     "output_type": "stream",
     "text": [
      "📉 Epoch 11/15 - Train Loss: 0.0233 | Val Loss: 0.0529\n"
     ]
    },
    {
     "name": "stderr",
     "output_type": "stream",
     "text": [
      "Epochs:  80%|████████  | 12/15 [00:28<00:07,  2.34s/it]"
     ]
    },
    {
     "name": "stdout",
     "output_type": "stream",
     "text": [
      "📉 Epoch 12/15 - Train Loss: 0.0214 | Val Loss: 0.0530\n"
     ]
    },
    {
     "name": "stderr",
     "output_type": "stream",
     "text": [
      "Epochs:  87%|████████▋ | 13/15 [00:30<00:04,  2.34s/it]"
     ]
    },
    {
     "name": "stdout",
     "output_type": "stream",
     "text": [
      "📉 Epoch 13/15 - Train Loss: 0.0193 | Val Loss: 0.0550\n"
     ]
    },
    {
     "name": "stderr",
     "output_type": "stream",
     "text": [
      "Epochs:  93%|█████████▎| 14/15 [00:32<00:02,  2.33s/it]"
     ]
    },
    {
     "name": "stdout",
     "output_type": "stream",
     "text": [
      "📉 Epoch 14/15 - Train Loss: 0.0177 | Val Loss: 0.0561\n"
     ]
    },
    {
     "name": "stderr",
     "output_type": "stream",
     "text": [
      "Epochs: 100%|██████████| 15/15 [00:35<00:00,  2.34s/it]"
     ]
    },
    {
     "name": "stdout",
     "output_type": "stream",
     "text": [
      "📉 Epoch 15/15 - Train Loss: 0.0133 | Val Loss: 0.0545\n",
      "📈 Saved training+validation loss plot as 'vae_train_val_loss.png'\n"
     ]
    },
    {
     "name": "stderr",
     "output_type": "stream",
     "text": [
      "\n"
     ]
    },
    {
     "data": {
      "image/png": "[encoded data removed]",
      "text/plain": [
       "<Figure size 800x500 with 1 Axes>"
      ]
     },
     "metadata": {},
     "output_type": "display_data"
    }
   ],
   "source": [
    "import torch\n",
    "import torch.nn as nn\n",
    "import torch.optim as optim\n",
    "from torch.utils.data import TensorDataset, DataLoader, random_split\n",
    "from tqdm import tqdm\n",
    "import matplotlib.pyplot as plt\n",
    "from sklearn.metrics import accuracy_score\n",
    "from nn_model import EmbeddingClassifier\n",
    "\n",
    "# Prepare feature matrix and labels\n",
    "X_train = df_physionet_train.iloc[:, :ld].values  \n",
    "X_test = df_physionet_test.iloc[:, :ld].values  \n",
    "y_train = np.array(df_physionet_train['diagnostic'].tolist(), dtype=int)  \n",
    "y_test = np.array(df_physionet_test['diagnostic'].tolist(), dtype=int)  \n",
    "\n",
    "# Convert to PyTorch tensors\n",
    "X_train_tensor = torch.tensor(X_train, dtype=torch.float32)\n",
    "y_train_tensor = torch.tensor(y_train, dtype=torch.float32)  # note: float for BCE loss\n",
    "X_test_tensor = torch.tensor(X_test, dtype=torch.float32)\n",
    "y_test_tensor = torch.tensor(y_test, dtype=torch.float32)\n",
    "\n",
    "# Split into train and validation sets\n",
    "val_ratio = 0.2\n",
    "total_samples = X_train_tensor.size(0)\n",
    "val_size = int(val_ratio * total_samples)\n",
    "train_size = total_samples - val_size\n",
    "\n",
    "train_dataset, val_dataset = random_split(\n",
    "    TensorDataset(X_train_tensor, y_train_tensor),\n",
    "    [train_size, val_size],\n",
    "    generator=torch.Generator().manual_seed(42)  # for reproducibility\n",
    ")\n",
    "\n",
    "train_loader = DataLoader(train_dataset, batch_size=64, shuffle=True)\n",
    "val_loader = DataLoader(val_dataset, batch_size=64, shuffle=False)\n",
    "\n",
    "# Init model\n",
    "input_dim = X_train.shape[1]\n",
    "output_dim = y_train.shape[1]\n",
    "model = EmbeddingClassifier(input_dim=input_dim, output_dim=output_dim)\n",
    "\n",
    "# Loss and optimizer\n",
    "criterion = nn.BCEWithLogitsLoss()\n",
    "optimizer = optim.Adam(model.parameters(), lr=0.001, weight_decay=1e-4)\n",
    "scheduler = torch.optim.lr_scheduler.ReduceLROnPlateau(optimizer, 'min', patience=3, factor=0.5)\n",
    "\n",
    "# Training loop\n",
    "epochs = 15\n",
    "train_losses = []\n",
    "val_losses = []\n",
    "\n",
    "print(\"🚀 Starting training...\")\n",
    "for epoch in tqdm(range(epochs), desc=\"Epochs\"):\n",
    "    model.train()\n",
    "    total_train_loss = 0\n",
    "    for xb, yb in train_loader:\n",
    "        optimizer.zero_grad()\n",
    "        output = model(xb)\n",
    "        loss = criterion(output, yb)\n",
    "        loss.backward()\n",
    "        optimizer.step()\n",
    "        total_train_loss += loss.item()\n",
    "    \n",
    "    avg_train_loss = total_train_loss / len(train_loader)\n",
    "    train_losses.append(avg_train_loss)\n",
    "\n",
    "    # Validation loop\n",
    "    model.eval()\n",
    "    total_val_loss = 0\n",
    "    with torch.no_grad():\n",
    "        for xb, yb in val_loader:\n",
    "            output = model(xb)\n",
    "            loss = criterion(output, yb)\n",
    "            total_val_loss += loss.item()\n",
    "    avg_val_loss = total_val_loss / len(val_loader)\n",
    "    val_losses.append(avg_val_loss)\n",
    "    scheduler.step(avg_val_loss)\n",
    "\n",
    "    print(f\"📉 Epoch {epoch+1}/{epochs} - Train Loss: {avg_train_loss:.4f} | Val Loss: {avg_val_loss:.4f}\")\n",
    "\n",
    "# Plot and save loss curves\n",
    "plt.figure(figsize=(8, 5))\n",
    "plt.plot(range(1, epochs + 1), train_losses, marker='o', label='Train Loss')\n",
    "plt.plot(range(1, epochs + 1), val_losses, marker='s', label='Val Loss')\n",
    "plt.title(\"Training & Validation Loss Over Epochs\")\n",
    "plt.xlabel(\"Epoch\")\n",
    "plt.ylabel(\"Loss\")\n",
    "plt.grid(True)\n",
    "plt.legend()\n",
    "plt.tight_layout()\n",
    "plt.savefig(\"vae_train_val_loss.png\")\n",
    "print(\"📈 Saved training+validation loss plot as 'vae_train_val_loss.png'\")\n"
   ]
  },
  {
   "cell_type": "code",
   "execution_count": null,
   "metadata": {},
   "outputs": [],
   "source": [
    "from sklearn.metrics import f1_score\n",
    "import numpy as np\n",
    "\n",
    "# Get probabilities from model\n",
    "with torch.no_grad():\n",
    "    logits = model(X_train_tensor)\n",
    "    probs_val = torch.sigmoid(logits).cpu().numpy()\n",
    "\n",
    "# Ground truth\n",
    "y_train = y_train_tensor.cpu().numpy()\n",
    "\n",
    "# Search for optimal thresholds (grid search over 0.0–1.0)\n",
    "best_thresholds = []\n",
    "for i in range(y_train.shape[1]):\n",
    "    best_f1 = 0\n",
    "    best_thresh = 0.5\n",
    "    for t in np.linspace(0.1, 0.9, 17):  # test thresholds from 0.1 to 0.9\n",
    "        preds = (probs_val[:, i] > t).astype(int)\n",
    "        f1 = f1_score(y_train[:, i], preds, zero_division=0)\n",
    "        if f1 > best_f1:\n",
    "            best_f1 = f1\n",
    "            best_thresh = t\n",
    "    best_thresholds.append(best_thresh)\n",
    "\n",
    "best_thresholds = np.array(best_thresholds)\n"
   ]
  },
  {
   "cell_type": "code",
   "execution_count": null,
   "metadata": {},
   "outputs": [
    {
     "name": "stdout",
     "output_type": "stream",
     "text": [
      "✅ Overall Accuracy: 0.29430604982206404\n",
      "✅ F1 Score (Macro): 0.2343608589329397\n",
      "✅ F1 Score (Micro): 0.42501562557446965\n",
      "✅ Classification Report:\n",
      "               precision    recall  f1-score   support\n",
      "\n",
      "           0       0.27      0.33      0.30       791\n",
      "           1       0.40      0.38      0.39      1155\n",
      "           2       0.28      0.02      0.03       272\n",
      "           3       0.00      0.00      0.00         6\n",
      "           4       0.57      0.23      0.32       124\n",
      "           5       0.76      0.63      0.69       580\n",
      "           6       0.37      0.22      0.28       319\n",
      "           7       0.10      0.08      0.09       186\n",
      "           8       0.38      0.35      0.36       740\n",
      "           9       0.49      0.30      0.37       249\n",
      "          10       0.00      0.00      0.00        30\n",
      "          11       0.15      0.09      0.11       208\n",
      "          12       0.07      0.03      0.04       222\n",
      "          13       0.01      0.01      0.01       128\n",
      "          14       0.56      0.58      0.57      3135\n",
      "          15       0.03      0.01      0.02       574\n",
      "          16       0.47      0.47      0.47        89\n",
      "          17       0.00      0.00      0.00        99\n",
      "          18       0.05      0.04      0.05       164\n",
      "          19       0.04      0.02      0.03       261\n",
      "          20       0.16      0.11      0.13       203\n",
      "          21       0.19      0.18      0.19       296\n",
      "          22       0.61      0.73      0.66      1247\n",
      "          23       0.62      0.75      0.68      1473\n",
      "          24       0.23      0.20      0.21      1229\n",
      "          25       0.09      0.10      0.09       288\n",
      "\n",
      "   micro avg       0.44      0.41      0.43     14068\n",
      "   macro avg       0.27      0.23      0.23     14068\n",
      "weighted avg       0.41      0.41      0.40     14068\n",
      " samples avg       0.40      0.38      0.38     14068\n",
      "\n"
     ]
    }
   ],
   "source": [
    "import numpy as np\n",
    "from sklearn.metrics import classification_report, f1_score, accuracy_score\n",
    "\n",
    "# Put model in evaluation mode\n",
    "model.eval()\n",
    "\n",
    "# Get predictions\n",
    "with torch.no_grad():\n",
    "    logits = model(X_test_tensor)\n",
    "    probs = torch.sigmoid(logits)\n",
    "    # Make sure best_thresholds is a torch tensor, same shape as probs\n",
    "    thresholds_tensor = torch.tensor(best_thresholds, dtype=torch.float32).to(probs.device)\n",
    "\n",
    "    # Apply thresholds with broadcasting\n",
    "    y_pred = (probs > thresholds_tensor).int().cpu().numpy()\n",
    "# Convert ground truth to numpy (if it's still a tensor)\n",
    "y_true = y_test_tensor.cpu().numpy()\n",
    "\n",
    "# Compute metrics\n",
    "f1_macro = f1_score(y_true, y_pred, average='macro', zero_division=0)\n",
    "f1_micro = f1_score(y_true, y_pred, average='micro', zero_division=0)\n",
    "overall_accuracy = accuracy_score(y_true, y_pred)\n",
    "\n",
    "# Generate classification report (per label)\n",
    "class_report = classification_report(\n",
    "    y_true, y_pred,\n",
    "    target_names=[str(i) for i in range(y_true.shape[1])],\n",
    "    zero_division=0\n",
    ")\n",
    "\n",
    "# Print results\n",
    "print(\"✅ Overall Accuracy:\", overall_accuracy)\n",
    "print(\"✅ F1 Score (Macro):\", f1_macro)\n",
    "print(\"✅ F1 Score (Micro):\", f1_micro)\n",
    "print(\"✅ Classification Report:\\n\", class_report)"
   ]
  },
  {
   "cell_type": "markdown",
   "metadata": {},
   "source": [
    "### Multiclass"
   ]
  },
  {
   "cell_type": "markdown",
   "metadata": {},
   "source": [
    "For the multi-class prediction, i.e. the separation of the classes \"sinus\", \"rbbb\", \"lbbb\" and \"avblock\", we used the k-nearest neighbor classification. The hyperparameter $k$ was determined using the Medalcare validation dataset as a cross-validation set. The best result $k$ was then used to train the kNN classifier based on the Medalcare training dataset and on the Medalcare test dataset that had never been used before (i.e. it was never included in any training process, neither in the VAE nor in the kNN process)."
   ]
  },
  {
   "cell_type": "code",
   "execution_count": null,
   "metadata": {},
   "outputs": [
    {
     "ename": "ValueError",
     "evalue": "\nAll the 47 fits failed.\nIt is very likely that your model is misconfigured.\nYou can try to debug the error by setting error_score='raise'.\n\nBelow are more details about the failures:\n--------------------------------------------------------------------------------\n47 fits failed with the following error:\nTraceback (most recent call last):\n  File \"c:\\Users\\Thomas Kaprielian\\Documents\\Master's Thesis\\VECG\\venv\\lib\\site-packages\\sklearn\\model_selection\\_validation.py\", line 866, in _fit_and_score\n    estimator.fit(X_train, y_train, **fit_params)\n  File \"c:\\Users\\Thomas Kaprielian\\Documents\\Master's Thesis\\VECG\\venv\\lib\\site-packages\\sklearn\\base.py\", line 1389, in wrapper\n    return fit_method(estimator, *args, **kwargs)\n  File \"c:\\Users\\Thomas Kaprielian\\Documents\\Master's Thesis\\VECG\\venv\\lib\\site-packages\\sklearn\\pipeline.py\", line 662, in fit\n    self._final_estimator.fit(Xt, y, **last_step_params[\"fit\"])\n  File \"c:\\Users\\Thomas Kaprielian\\Documents\\Master's Thesis\\VECG\\venv\\lib\\site-packages\\sklearn\\base.py\", line 1389, in wrapper\n    return fit_method(estimator, *args, **kwargs)\n  File \"c:\\Users\\Thomas Kaprielian\\Documents\\Master's Thesis\\VECG\\venv\\lib\\site-packages\\sklearn\\neighbors\\_classification.py\", line 239, in fit\n    return self._fit(X, y)\n  File \"c:\\Users\\Thomas Kaprielian\\Documents\\Master's Thesis\\VECG\\venv\\lib\\site-packages\\sklearn\\neighbors\\_base.py\", line 478, in _fit\n    X, y = validate_data(\n  File \"c:\\Users\\Thomas Kaprielian\\Documents\\Master's Thesis\\VECG\\venv\\lib\\site-packages\\sklearn\\utils\\validation.py\", line 2961, in validate_data\n    X, y = check_X_y(X, y, **check_params)\n  File \"c:\\Users\\Thomas Kaprielian\\Documents\\Master's Thesis\\VECG\\venv\\lib\\site-packages\\sklearn\\utils\\validation.py\", line 1387, in check_X_y\n    y = _check_y(y, multi_output=multi_output, y_numeric=y_numeric, estimator=estimator)\n  File \"c:\\Users\\Thomas Kaprielian\\Documents\\Master's Thesis\\VECG\\venv\\lib\\site-packages\\sklearn\\utils\\validation.py\", line 1397, in _check_y\n    y = check_array(\n  File \"c:\\Users\\Thomas Kaprielian\\Documents\\Master's Thesis\\VECG\\venv\\lib\\site-packages\\sklearn\\utils\\validation.py\", line 1107, in check_array\n    _assert_all_finite(\n  File \"c:\\Users\\Thomas Kaprielian\\Documents\\Master's Thesis\\VECG\\venv\\lib\\site-packages\\sklearn\\utils\\validation.py\", line 104, in _assert_all_finite\n    if _object_dtype_isnan(X).any():\n  File \"c:\\Users\\Thomas Kaprielian\\Documents\\Master's Thesis\\VECG\\venv\\lib\\site-packages\\sklearn\\utils\\fixes.py\", line 84, in _object_dtype_isnan\n    return X != X\nValueError: The truth value of an array with more than one element is ambiguous. Use a.any() or a.all()\n",
     "output_type": "error",
     "traceback": [
      "\u001b[1;31m---------------------------------------------------------------------------\u001b[0m\n",
      "\u001b[1;31mValueError\u001b[0m                                Traceback (most recent call last)\n",
      "Cell \u001b[1;32mIn[22], line 1\u001b[0m\n",
      "\u001b[1;32m----> 1\u001b[0m best_k \u001b[38;5;241m=\u001b[39m \u001b[43mHelper\u001b[49m\u001b[38;5;241;43m.\u001b[39;49m\u001b[43mcross_validation_knn\u001b[49m\u001b[43m(\u001b[49m\u001b[43mX_train\u001b[49m\u001b[43m,\u001b[49m\u001b[43m \u001b[49m\u001b[43mX_test\u001b[49m\u001b[43m,\u001b[49m\u001b[43m \u001b[49m\u001b[43my_train\u001b[49m\u001b[43m,\u001b[49m\u001b[43m \u001b[49m\u001b[43my_test\u001b[49m\u001b[43m)\u001b[49m\n",
      "\n",
      "File \u001b[1;32mc:\\Users\\Thomas Kaprielian\\Documents\\Master's Thesis\\VECG\\src\\utils\\helper.py:504\u001b[0m, in \u001b[0;36mHelper.cross_validation_knn\u001b[1;34m(X_train, X_val, y_train_labels, y_val_labels, scoring)\u001b[0m\n",
      "\u001b[0;32m    501\u001b[0m param_grid \u001b[38;5;241m=\u001b[39m {\u001b[38;5;124m'\u001b[39m\u001b[38;5;124mknn__n_neighbors\u001b[39m\u001b[38;5;124m'\u001b[39m: \u001b[38;5;28mrange\u001b[39m(\u001b[38;5;241m3\u001b[39m, \u001b[38;5;241m50\u001b[39m)}\n",
      "\u001b[0;32m    503\u001b[0m grid_search \u001b[38;5;241m=\u001b[39m GridSearchCV(pipeline, param_grid, cv\u001b[38;5;241m=\u001b[39mps, scoring\u001b[38;5;241m=\u001b[39mscoring)\n",
      "\u001b[1;32m--> 504\u001b[0m \u001b[43mgrid_search\u001b[49m\u001b[38;5;241;43m.\u001b[39;49m\u001b[43mfit\u001b[49m\u001b[43m(\u001b[49m\u001b[43mX_combined\u001b[49m\u001b[43m,\u001b[49m\u001b[43m \u001b[49m\u001b[43my_combined\u001b[49m\u001b[43m)\u001b[49m\n",
      "\u001b[0;32m    506\u001b[0m \u001b[38;5;66;03m# Get the best k value\u001b[39;00m\n",
      "\u001b[0;32m    507\u001b[0m best_k \u001b[38;5;241m=\u001b[39m grid_search\u001b[38;5;241m.\u001b[39mbest_params_[\u001b[38;5;124m'\u001b[39m\u001b[38;5;124mknn__n_neighbors\u001b[39m\u001b[38;5;124m'\u001b[39m]\n",
      "\n",
      "File \u001b[1;32mc:\\Users\\Thomas Kaprielian\\Documents\\Master's Thesis\\VECG\\venv\\lib\\site-packages\\sklearn\\base.py:1389\u001b[0m, in \u001b[0;36m_fit_context.<locals>.decorator.<locals>.wrapper\u001b[1;34m(estimator, *args, **kwargs)\u001b[0m\n",
      "\u001b[0;32m   1382\u001b[0m     estimator\u001b[38;5;241m.\u001b[39m_validate_params()\n",
      "\u001b[0;32m   1384\u001b[0m \u001b[38;5;28;01mwith\u001b[39;00m config_context(\n",
      "\u001b[0;32m   1385\u001b[0m     skip_parameter_validation\u001b[38;5;241m=\u001b[39m(\n",
      "\u001b[0;32m   1386\u001b[0m         prefer_skip_nested_validation \u001b[38;5;129;01mor\u001b[39;00m global_skip_validation\n",
      "\u001b[0;32m   1387\u001b[0m     )\n",
      "\u001b[0;32m   1388\u001b[0m ):\n",
      "\u001b[1;32m-> 1389\u001b[0m     \u001b[38;5;28;01mreturn\u001b[39;00m fit_method(estimator, \u001b[38;5;241m*\u001b[39margs, \u001b[38;5;241m*\u001b[39m\u001b[38;5;241m*\u001b[39mkwargs)\n",
      "\n",
      "File \u001b[1;32mc:\\Users\\Thomas Kaprielian\\Documents\\Master's Thesis\\VECG\\venv\\lib\\site-packages\\sklearn\\model_selection\\_search.py:1024\u001b[0m, in \u001b[0;36mBaseSearchCV.fit\u001b[1;34m(self, X, y, **params)\u001b[0m\n",
      "\u001b[0;32m   1018\u001b[0m     results \u001b[38;5;241m=\u001b[39m \u001b[38;5;28mself\u001b[39m\u001b[38;5;241m.\u001b[39m_format_results(\n",
      "\u001b[0;32m   1019\u001b[0m         all_candidate_params, n_splits, all_out, all_more_results\n",
      "\u001b[0;32m   1020\u001b[0m     )\n",
      "\u001b[0;32m   1022\u001b[0m     \u001b[38;5;28;01mreturn\u001b[39;00m results\n",
      "\u001b[1;32m-> 1024\u001b[0m \u001b[38;5;28;43mself\u001b[39;49m\u001b[38;5;241;43m.\u001b[39;49m\u001b[43m_run_search\u001b[49m\u001b[43m(\u001b[49m\u001b[43mevaluate_candidates\u001b[49m\u001b[43m)\u001b[49m\n",
      "\u001b[0;32m   1026\u001b[0m \u001b[38;5;66;03m# multimetric is determined here because in the case of a callable\u001b[39;00m\n",
      "\u001b[0;32m   1027\u001b[0m \u001b[38;5;66;03m# self.scoring the return type is only known after calling\u001b[39;00m\n",
      "\u001b[0;32m   1028\u001b[0m first_test_score \u001b[38;5;241m=\u001b[39m all_out[\u001b[38;5;241m0\u001b[39m][\u001b[38;5;124m\"\u001b[39m\u001b[38;5;124mtest_scores\u001b[39m\u001b[38;5;124m\"\u001b[39m]\n",
      "\n",
      "File \u001b[1;32mc:\\Users\\Thomas Kaprielian\\Documents\\Master's Thesis\\VECG\\venv\\lib\\site-packages\\sklearn\\model_selection\\_search.py:1571\u001b[0m, in \u001b[0;36mGridSearchCV._run_search\u001b[1;34m(self, evaluate_candidates)\u001b[0m\n",
      "\u001b[0;32m   1569\u001b[0m \u001b[38;5;28;01mdef\u001b[39;00m\u001b[38;5;250m \u001b[39m\u001b[38;5;21m_run_search\u001b[39m(\u001b[38;5;28mself\u001b[39m, evaluate_candidates):\n",
      "\u001b[0;32m   1570\u001b[0m \u001b[38;5;250m    \u001b[39m\u001b[38;5;124;03m\"\"\"Search all candidates in param_grid\"\"\"\u001b[39;00m\n",
      "\u001b[1;32m-> 1571\u001b[0m     \u001b[43mevaluate_candidates\u001b[49m\u001b[43m(\u001b[49m\u001b[43mParameterGrid\u001b[49m\u001b[43m(\u001b[49m\u001b[38;5;28;43mself\u001b[39;49m\u001b[38;5;241;43m.\u001b[39;49m\u001b[43mparam_grid\u001b[49m\u001b[43m)\u001b[49m\u001b[43m)\u001b[49m\n",
      "\n",
      "File \u001b[1;32mc:\\Users\\Thomas Kaprielian\\Documents\\Master's Thesis\\VECG\\venv\\lib\\site-packages\\sklearn\\model_selection\\_search.py:1001\u001b[0m, in \u001b[0;36mBaseSearchCV.fit.<locals>.evaluate_candidates\u001b[1;34m(candidate_params, cv, more_results)\u001b[0m\n",
      "\u001b[0;32m    994\u001b[0m \u001b[38;5;28;01melif\u001b[39;00m \u001b[38;5;28mlen\u001b[39m(out) \u001b[38;5;241m!=\u001b[39m n_candidates \u001b[38;5;241m*\u001b[39m n_splits:\n",
      "\u001b[0;32m    995\u001b[0m     \u001b[38;5;28;01mraise\u001b[39;00m \u001b[38;5;167;01mValueError\u001b[39;00m(\n",
      "\u001b[0;32m    996\u001b[0m         \u001b[38;5;124m\"\u001b[39m\u001b[38;5;124mcv.split and cv.get_n_splits returned \u001b[39m\u001b[38;5;124m\"\u001b[39m\n",
      "\u001b[0;32m    997\u001b[0m         \u001b[38;5;124m\"\u001b[39m\u001b[38;5;124minconsistent results. Expected \u001b[39m\u001b[38;5;132;01m{}\u001b[39;00m\u001b[38;5;124m \u001b[39m\u001b[38;5;124m\"\u001b[39m\n",
      "\u001b[0;32m    998\u001b[0m         \u001b[38;5;124m\"\u001b[39m\u001b[38;5;124msplits, got \u001b[39m\u001b[38;5;132;01m{}\u001b[39;00m\u001b[38;5;124m\"\u001b[39m\u001b[38;5;241m.\u001b[39mformat(n_splits, \u001b[38;5;28mlen\u001b[39m(out) \u001b[38;5;241m/\u001b[39m\u001b[38;5;241m/\u001b[39m n_candidates)\n",
      "\u001b[0;32m    999\u001b[0m     )\n",
      "\u001b[1;32m-> 1001\u001b[0m \u001b[43m_warn_or_raise_about_fit_failures\u001b[49m\u001b[43m(\u001b[49m\u001b[43mout\u001b[49m\u001b[43m,\u001b[49m\u001b[43m \u001b[49m\u001b[38;5;28;43mself\u001b[39;49m\u001b[38;5;241;43m.\u001b[39;49m\u001b[43merror_score\u001b[49m\u001b[43m)\u001b[49m\n",
      "\u001b[0;32m   1003\u001b[0m \u001b[38;5;66;03m# For callable self.scoring, the return type is only know after\u001b[39;00m\n",
      "\u001b[0;32m   1004\u001b[0m \u001b[38;5;66;03m# calling. If the return type is a dictionary, the error scores\u001b[39;00m\n",
      "\u001b[0;32m   1005\u001b[0m \u001b[38;5;66;03m# can now be inserted with the correct key. The type checking\u001b[39;00m\n",
      "\u001b[0;32m   1006\u001b[0m \u001b[38;5;66;03m# of out will be done in `_insert_error_scores`.\u001b[39;00m\n",
      "\u001b[0;32m   1007\u001b[0m \u001b[38;5;28;01mif\u001b[39;00m \u001b[38;5;28mcallable\u001b[39m(\u001b[38;5;28mself\u001b[39m\u001b[38;5;241m.\u001b[39mscoring):\n",
      "\n",
      "File \u001b[1;32mc:\\Users\\Thomas Kaprielian\\Documents\\Master's Thesis\\VECG\\venv\\lib\\site-packages\\sklearn\\model_selection\\_validation.py:517\u001b[0m, in \u001b[0;36m_warn_or_raise_about_fit_failures\u001b[1;34m(results, error_score)\u001b[0m\n",
      "\u001b[0;32m    510\u001b[0m \u001b[38;5;28;01mif\u001b[39;00m num_failed_fits \u001b[38;5;241m==\u001b[39m num_fits:\n",
      "\u001b[0;32m    511\u001b[0m     all_fits_failed_message \u001b[38;5;241m=\u001b[39m (\n",
      "\u001b[0;32m    512\u001b[0m         \u001b[38;5;124mf\u001b[39m\u001b[38;5;124m\"\u001b[39m\u001b[38;5;130;01m\\n\u001b[39;00m\u001b[38;5;124mAll the \u001b[39m\u001b[38;5;132;01m{\u001b[39;00mnum_fits\u001b[38;5;132;01m}\u001b[39;00m\u001b[38;5;124m fits failed.\u001b[39m\u001b[38;5;130;01m\\n\u001b[39;00m\u001b[38;5;124m\"\u001b[39m\n",
      "\u001b[0;32m    513\u001b[0m         \u001b[38;5;124m\"\u001b[39m\u001b[38;5;124mIt is very likely that your model is misconfigured.\u001b[39m\u001b[38;5;130;01m\\n\u001b[39;00m\u001b[38;5;124m\"\u001b[39m\n",
      "\u001b[0;32m    514\u001b[0m         \u001b[38;5;124m\"\u001b[39m\u001b[38;5;124mYou can try to debug the error by setting error_score=\u001b[39m\u001b[38;5;124m'\u001b[39m\u001b[38;5;124mraise\u001b[39m\u001b[38;5;124m'\u001b[39m\u001b[38;5;124m.\u001b[39m\u001b[38;5;130;01m\\n\u001b[39;00m\u001b[38;5;130;01m\\n\u001b[39;00m\u001b[38;5;124m\"\u001b[39m\n",
      "\u001b[0;32m    515\u001b[0m         \u001b[38;5;124mf\u001b[39m\u001b[38;5;124m\"\u001b[39m\u001b[38;5;124mBelow are more details about the failures:\u001b[39m\u001b[38;5;130;01m\\n\u001b[39;00m\u001b[38;5;132;01m{\u001b[39;00mfit_errors_summary\u001b[38;5;132;01m}\u001b[39;00m\u001b[38;5;124m\"\u001b[39m\n",
      "\u001b[0;32m    516\u001b[0m     )\n",
      "\u001b[1;32m--> 517\u001b[0m     \u001b[38;5;28;01mraise\u001b[39;00m \u001b[38;5;167;01mValueError\u001b[39;00m(all_fits_failed_message)\n",
      "\u001b[0;32m    519\u001b[0m \u001b[38;5;28;01melse\u001b[39;00m:\n",
      "\u001b[0;32m    520\u001b[0m     some_fits_failed_message \u001b[38;5;241m=\u001b[39m (\n",
      "\u001b[0;32m    521\u001b[0m         \u001b[38;5;124mf\u001b[39m\u001b[38;5;124m\"\u001b[39m\u001b[38;5;130;01m\\n\u001b[39;00m\u001b[38;5;132;01m{\u001b[39;00mnum_failed_fits\u001b[38;5;132;01m}\u001b[39;00m\u001b[38;5;124m fits failed out of a total of \u001b[39m\u001b[38;5;132;01m{\u001b[39;00mnum_fits\u001b[38;5;132;01m}\u001b[39;00m\u001b[38;5;124m.\u001b[39m\u001b[38;5;130;01m\\n\u001b[39;00m\u001b[38;5;124m\"\u001b[39m\n",
      "\u001b[0;32m    522\u001b[0m         \u001b[38;5;124m\"\u001b[39m\u001b[38;5;124mThe score on these train-test partitions for these parameters\u001b[39m\u001b[38;5;124m\"\u001b[39m\n",
      "\u001b[1;32m   (...)\u001b[0m\n",
      "\u001b[0;32m    526\u001b[0m         \u001b[38;5;124mf\u001b[39m\u001b[38;5;124m\"\u001b[39m\u001b[38;5;124mBelow are more details about the failures:\u001b[39m\u001b[38;5;130;01m\\n\u001b[39;00m\u001b[38;5;132;01m{\u001b[39;00mfit_errors_summary\u001b[38;5;132;01m}\u001b[39;00m\u001b[38;5;124m\"\u001b[39m\n",
      "\u001b[0;32m    527\u001b[0m     )\n",
      "\n",
      "\u001b[1;31mValueError\u001b[0m: \n",
      "All the 47 fits failed.\n",
      "It is very likely that your model is misconfigured.\n",
      "You can try to debug the error by setting error_score='raise'.\n",
      "\n",
      "Below are more details about the failures:\n",
      "--------------------------------------------------------------------------------\n",
      "47 fits failed with the following error:\n",
      "Traceback (most recent call last):\n",
      "  File \"c:\\Users\\Thomas Kaprielian\\Documents\\Master's Thesis\\VECG\\venv\\lib\\site-packages\\sklearn\\model_selection\\_validation.py\", line 866, in _fit_and_score\n",
      "    estimator.fit(X_train, y_train, **fit_params)\n",
      "  File \"c:\\Users\\Thomas Kaprielian\\Documents\\Master's Thesis\\VECG\\venv\\lib\\site-packages\\sklearn\\base.py\", line 1389, in wrapper\n",
      "    return fit_method(estimator, *args, **kwargs)\n",
      "  File \"c:\\Users\\Thomas Kaprielian\\Documents\\Master's Thesis\\VECG\\venv\\lib\\site-packages\\sklearn\\pipeline.py\", line 662, in fit\n",
      "    self._final_estimator.fit(Xt, y, **last_step_params[\"fit\"])\n",
      "  File \"c:\\Users\\Thomas Kaprielian\\Documents\\Master's Thesis\\VECG\\venv\\lib\\site-packages\\sklearn\\base.py\", line 1389, in wrapper\n",
      "    return fit_method(estimator, *args, **kwargs)\n",
      "  File \"c:\\Users\\Thomas Kaprielian\\Documents\\Master's Thesis\\VECG\\venv\\lib\\site-packages\\sklearn\\neighbors\\_classification.py\", line 239, in fit\n",
      "    return self._fit(X, y)\n",
      "  File \"c:\\Users\\Thomas Kaprielian\\Documents\\Master's Thesis\\VECG\\venv\\lib\\site-packages\\sklearn\\neighbors\\_base.py\", line 478, in _fit\n",
      "    X, y = validate_data(\n",
      "  File \"c:\\Users\\Thomas Kaprielian\\Documents\\Master's Thesis\\VECG\\venv\\lib\\site-packages\\sklearn\\utils\\validation.py\", line 2961, in validate_data\n",
      "    X, y = check_X_y(X, y, **check_params)\n",
      "  File \"c:\\Users\\Thomas Kaprielian\\Documents\\Master's Thesis\\VECG\\venv\\lib\\site-packages\\sklearn\\utils\\validation.py\", line 1387, in check_X_y\n",
      "    y = _check_y(y, multi_output=multi_output, y_numeric=y_numeric, estimator=estimator)\n",
      "  File \"c:\\Users\\Thomas Kaprielian\\Documents\\Master's Thesis\\VECG\\venv\\lib\\site-packages\\sklearn\\utils\\validation.py\", line 1397, in _check_y\n",
      "    y = check_array(\n",
      "  File \"c:\\Users\\Thomas Kaprielian\\Documents\\Master's Thesis\\VECG\\venv\\lib\\site-packages\\sklearn\\utils\\validation.py\", line 1107, in check_array\n",
      "    _assert_all_finite(\n",
      "  File \"c:\\Users\\Thomas Kaprielian\\Documents\\Master's Thesis\\VECG\\venv\\lib\\site-packages\\sklearn\\utils\\validation.py\", line 104, in _assert_all_finite\n",
      "    if _object_dtype_isnan(X).any():\n",
      "  File \"c:\\Users\\Thomas Kaprielian\\Documents\\Master's Thesis\\VECG\\venv\\lib\\site-packages\\sklearn\\utils\\fixes.py\", line 84, in _object_dtype_isnan\n",
      "    return X != X\n",
      "ValueError: The truth value of an array with more than one element is ambiguous. Use a.any() or a.all()\n"
     ]
    }
   ],
   "source": [
    "best_k = Helper.cross_validation_knn(X_train, X_test, y_train, y_test)"
   ]
  },
  {
   "cell_type": "code",
   "execution_count": null,
   "metadata": {},
   "outputs": [],
   "source": [
    "plt.rcParams['font.size'] = 12"
   ]
  },
  {
   "cell_type": "code",
   "execution_count": null,
   "metadata": {},
   "outputs": [],
   "source": [
    "plt.figure(figsize=(12,12))\n",
    "cm, classes, predictions = Visualizations.plot_confustion_matrix(\n",
    "    X_train, X_test, y_train, y_test,\n",
    "    KNeighborsClassifier(n_neighbors=best_k),\n",
    "    '../analysis/media/confusion_matrix_multiclass_medalcare_diagnostic.png',\n",
    "    dpi=DPI,\n",
    ")"
   ]
  },
  {
   "cell_type": "code",
   "execution_count": null,
   "metadata": {},
   "outputs": [],
   "source": [
    "Helper.calculate_f1(cm, include)"
   ]
  },
  {
   "cell_type": "code",
   "execution_count": null,
   "metadata": {},
   "outputs": [],
   "source": [
    "Visualizations.print_metrics_multiclass(cm, y_test, predictions)"
   ]
  },
  {
   "cell_type": "markdown",
   "metadata": {},
   "source": [
    "### Binary"
   ]
  },
  {
   "cell_type": "markdown",
   "metadata": {},
   "source": [
    "As with multi-class prediction, the same approach was followed for binary classification, i.e. the \"sinus\" samples were separated from the \"rbbb\", \"lbbb\" and \"avblock\" classes."
   ]
  },
  {
   "cell_type": "code",
   "execution_count": null,
   "metadata": {},
   "outputs": [],
   "source": [
    "best_k = Helper.cross_validation_knn(X_train, X_val, y_train_b, y_val_b)"
   ]
  },
  {
   "cell_type": "code",
   "execution_count": null,
   "metadata": {},
   "outputs": [],
   "source": [
    "cm, classes, predictions_b = Visualizations.plot_confustion_matrix(\n",
    "    X_train, X_test, y_train_b, y_test_b,\n",
    "    KNeighborsClassifier(n_neighbors=best_k),\n",
    "    '../analysis/media/confusion_matrix_binary_medalcare_diagnostic.png',\n",
    "    dpi=DPI,\n",
    ")"
   ]
  },
  {
   "cell_type": "code",
   "execution_count": null,
   "metadata": {},
   "outputs": [],
   "source": [
    "Visualizations.print_metrics_binary(cm, y_test_b, predictions_b)"
   ]
  },
  {
   "cell_type": "markdown",
   "metadata": {},
   "source": [
    "### Interpretation"
   ]
  },
  {
   "cell_type": "markdown",
   "metadata": {},
   "source": [
    "Finally, we would like to use distribution diagrams to investigate how well the pathologies can be separated along the explainable axis."
   ]
  },
  {
   "cell_type": "code",
   "execution_count": null,
   "metadata": {},
   "outputs": [],
   "source": [
    "pair_df = df_medalcare_test[df_medalcare_test.diagnosis.isin(include)].loc[:, list([3, 4, 6, 10]) + ['diagnosis']]"
   ]
  },
  {
   "cell_type": "code",
   "execution_count": null,
   "metadata": {},
   "outputs": [],
   "source": [
    "pair_df.diagnosis = pair_df.diagnosis.replace('sinus', 'Sinus').replace('rbbb', 'RBBB').replace('lbbb', 'LBBB').replace('avblock', 'AVBlock').replace('miLCX', 'MI LCX')"
   ]
  },
  {
   "cell_type": "code",
   "execution_count": null,
   "metadata": {},
   "outputs": [],
   "source": [
    "cols = {'diagnosis': 'Diagnosis'}\n",
    "pair_df = pair_df.rename(columns=cols)"
   ]
  },
  {
   "cell_type": "code",
   "execution_count": null,
   "metadata": {},
   "outputs": [],
   "source": [
    "palette = {'Sinus': 'tab:orange', 'MI LCX': 'tab:blue', 'LBBB': 'tab:purple', 'RBBB': 'tab:green', 'AVBlock': 'tab:red'}"
   ]
  },
  {
   "cell_type": "code",
   "execution_count": null,
   "metadata": {},
   "outputs": [],
   "source": [
    "plt.rcParams['font.size'] = 20\n",
    "pairplot = sns.pairplot(pair_df, hue=\"Diagnosis\", plot_kws={\"s\": 1}, diag_kws={'common_norm': False}, palette=palette, aspect=1.3)\n",
    "\n",
    "for handle in pairplot._legend.legendHandles:\n",
    "    handle.set_markersize(10)\n",
    "sns.move_legend(pairplot, \"upper center\", bbox_to_anchor=(.45, 1.08), ncol=5, frameon=False)\n",
    "for ax in pairplot.axes[:, 0]:\n",
    "    ax.yaxis.set_label_coords(-0.3, 0.5)\n",
    "\n",
    "pairplot.savefig('../analysis/media/anomaly_interpretation_medalcare.png', dpi=DPI)"
   ]
  },
  {
   "cell_type": "markdown",
   "metadata": {},
   "source": [
    "## 3. Personalization"
   ]
  },
  {
   "cell_type": "markdown",
   "metadata": {},
   "source": [
    "The subjects from the _icentia11k_ data set are used for personalization. For each of the 100 subjects randomly selected from the total dataset, the base model is fine-tuned and the embedding is saved. From the 100 randomly selected samples of the icentia11k dataset, a set of 6 subjects was selected for the analysis of the distribution graphs. 3 samples were selected because they contained a large number of PAC samples, while the other 3 samples were selected because of the frequent occurrence of PVC. All 6 samples also had a high number of normal class ECG beats. A custom color palette is defined for the classes Normal, PVC, and PAC to adhere to consisting coloring throughout the evaluation."
   ]
  },
  {
   "cell_type": "code",
   "execution_count": null,
   "metadata": {},
   "outputs": [],
   "source": [
    "from src.evaluate.personalization import fine_tune"
   ]
  },
  {
   "cell_type": "code",
   "execution_count": null,
   "metadata": {},
   "outputs": [],
   "source": [
    "datasets = {\n",
    "    'name': ['icentia11k'],\n",
    "    'shuffle_size': 1024,\n",
    "    'batch_size': 1024,\n",
    "}\n",
    "\n",
    "splits = [\n",
    "    '107', '5484', '6998', '3984', '3111', '4040', '3013', '6607', '4219', '8750', '5665', '9225',\n",
    "    '8030', '9886', '1851', '1123', '3043', '3369', '6829', '10969', '3088', '9405', '9535', '4993',\n",
    "    '4209', '10937', '6167', '4688', '6877', '10733', '8412', '10146', '10973', '9345', '2514', '2908',\n",
    "    '5938', '5015', '9595', '8769', '4786', '2602', '7779', '2826', '1118', '3485', '2980', '10503',\n",
    "    '7719', '6575', '1722', '7234', '8366', '3948', '5493', '10731', '8111', '2820', '5337', '5369',\n",
    "    '4184', '9403', '9625', '303', '33', '3274', '1941', '9116', '9283', '3522', '4836', '7107', '251',\n",
    "    '9071', '6899', '9733', '9440', '457', '2954', '1839', '5865', '8500', '9559', '1277', '1145', '10107',\n",
    "    '9287', '8443', '9783', '9956', '10090', '3204', '6814', '4553', '6377', '5572', '1178', '5032', '1793', '4453',\n",
    "]\n",
    "\n",
    "subjects = ['2602', '9225', '10973', '1851', '5938', '10146']\n",
    "# use a custom order to stay consistent in the order of presentation\n",
    "custom_sort_order = [2602, 9225, 10973, 1851, 5938, 10146]\n",
    "\n",
    "palette = {'Normal': 'C0', 'PVC': 'C2', 'PAC': 'C1'}\n",
    "\n",
    "ld = 12\n",
    "path_save = '../analysis/personalization/embeddings_vae/'"
   ]
  },
  {
   "cell_type": "code",
   "execution_count": null,
   "metadata": {},
   "outputs": [],
   "source": [
    "if not USE_PRECOMPUTED:\n",
    "    fine_tune(path_model, datasets, splits, ld, path_save)"
   ]
  },
  {
   "cell_type": "markdown",
   "metadata": {},
   "source": [
    "### Personlized Models: Accuracy\n",
    "\n",
    "Let's load the emebddings from the personalzed computations and train a kNN on the train set (80 % of the complete dataset) and save the confusion matrix based on the test set (remaining 20 %)."
   ]
  },
  {
   "cell_type": "code",
   "execution_count": null,
   "metadata": {},
   "outputs": [],
   "source": [
    "def plot_confustion_matrix(X_train, X_test, y_train, y_test, predictor, path, dpi, normalize=False, cmap='Greens'):\n",
    "        predictor.fit(X_train.fillna(0), y_train)\n",
    "        predictions = predictor.predict(X_test.fillna(0))\n",
    "        cm = confusion_matrix(y_test, predictions, labels=predictor.classes_)\n",
    "        return cm, predictor.classes_, predictions"
   ]
  },
  {
   "cell_type": "code",
   "execution_count": null,
   "metadata": {},
   "outputs": [],
   "source": [
    "if not USE_PRECOMPUTED:\n",
    "    for k in glob.glob('../analysis/personalization/embeddings_vae/*.csv'):\n",
    "        try:\n",
    "            df_pers = pd.read_csv(k)\n",
    "            df_pers[\"beat_b\"] = df_pers.beat.replace(0.0, 'Normal').replace(1.0, 'Unclassified').replace(2.0, 'Anomal').replace(3.0, 'Anomal')\n",
    "            df_pers.beat = df_pers.beat.replace(0.0, 'Normal').replace(1.0, 'Unclassified').replace(2.0, 'PAC').replace(3.0, 'PVC')\n",
    "            df_pers = df_pers[df_pers.beat != 'Unclassified'].drop('Unnamed: 0', axis=1)\n",
    "            \n",
    "            X_train, X_test, y_train, y_test = train_test_split(\n",
    "                        df_pers.iloc[:, :ld],\n",
    "                        df_pers.beat,\n",
    "                        test_size=0.2,\n",
    "                        random_state=42,\n",
    "                        stratify=df_pers.beat,\n",
    "                    )\n",
    "            cm, classes, prediction = plot_confustion_matrix(\n",
    "                        X_train, X_test, y_train, y_test,\n",
    "                        KNeighborsClassifier(n_neighbors=13),\n",
    "                        '../analysis/media/test.png',\n",
    "                        dpi=10,\n",
    "                    )\n",
    "            pred_df = pd.DataFrame(cm, columns=classes, index=classes)\n",
    "            pred_df.to_csv('../analysis/personalization/confusion_matrices/' + k.split('/')[-1])\n",
    "            \n",
    "            if df_pers.groupby('beat_b')['beat_b'].count()['Anomal'] > 500:\n",
    "                X_train, X_test, y_train, y_test = train_test_split(\n",
    "                        df_pers.iloc[:, :ld],\n",
    "                        df_pers.beat_b,\n",
    "                        test_size=0.2,\n",
    "                        random_state=42,\n",
    "                        stratify=df_pers.beat_b,\n",
    "                    )\n",
    "                cm, classes, prediction = plot_confustion_matrix(\n",
    "                        X_train, X_test, y_train, y_test,\n",
    "                        KNeighborsClassifier(n_neighbors=13),\n",
    "                        '../analysis/media/test.png',\n",
    "                        dpi=10,\n",
    "                    )\n",
    "                pred_df = pd.DataFrame(cm, columns=classes, index=classes)\n",
    "                pred_df.to_csv('../analysis/personalization/confusion_matrices_b/' + k.split('/')[-1])\n",
    "        except Exception as e:\n",
    "            print('Skipped', e)\n",
    "            continue"
   ]
  },
  {
   "cell_type": "markdown",
   "metadata": {},
   "source": [
    "There are two ways to merge the confusion matrices to evaluate the overall goodness of fit. Therefore, we load the confusion matrices and:\n",
    "1. sum them element by element and then normalize them per row\n",
    "2. normalize them per subject and row and then sum them together\n",
    "\n",
    "Both versions offer a different view of the matter. However, the latter (2) offers a more unbiased way to evaluate performance, as highly unbalanced class distributions are not as significant."
   ]
  },
  {
   "cell_type": "code",
   "execution_count": null,
   "metadata": {},
   "outputs": [],
   "source": [
    "df = pd.DataFrame()\n",
    "df_unbiased = pd.DataFrame()\n",
    "files = glob.glob('../analysis/personalization/confusion_matrices/*.csv')\n",
    "files_b = glob.glob('../analysis/personalization/confusion_matrices_b/*.csv')\n",
    "individual_f1_scores = []\n",
    "index_and_columns = ['Normal', 'PAC', 'PVC']\n",
    "index_and_columns_b = ['Normal', 'Anomal']\n",
    "\n",
    "for i, k in enumerate(files):\n",
    "    temp = pd.read_csv(k, index_col=0)\n",
    "    temp = temp.reindex(index=index_and_columns, columns=index_and_columns, fill_value=0)\n",
    "    df = df.add(temp, fill_value=0)\n",
    "\n",
    "for i, k in enumerate(files_b):\n",
    "    temp = pd.read_csv(k, index_col=0)\n",
    "    temp = temp.reindex(index=index_and_columns_b, columns=index_and_columns_b, fill_value=0)\n",
    "    individual_f1_result = Helper.calculate_f1(temp.to_numpy(), temp.columns)\n",
    "    individual_f1_scores.append(individual_f1_result)"
   ]
  },
  {
   "cell_type": "code",
   "execution_count": null,
   "metadata": {},
   "outputs": [],
   "source": [
    "Helper.calculate_f1(df.to_numpy(), df.columns)"
   ]
  },
  {
   "cell_type": "code",
   "execution_count": null,
   "metadata": {},
   "outputs": [],
   "source": [
    "avg_metrics_b = {\n",
    "    'Macro F1': 0,\n",
    "    'Precision': {'Normal': 0, 'Anomal': 0},\n",
    "    'Recall': {'Normal': 0, 'Anomal': 0},\n",
    "    'F1 Scores': {'Normal': 0, 'Anomal': 0},\n",
    "}"
   ]
  },
  {
   "cell_type": "code",
   "execution_count": null,
   "metadata": {},
   "outputs": [],
   "source": [
    "Helper.average_metrics(individual_f1_scores, avg_metrics_b)"
   ]
  },
  {
   "cell_type": "markdown",
   "metadata": {},
   "source": [
    "### Personlized Models: Inter-subject patterns\n",
    "\n",
    "We load the embedding (of the base model) of all subjects from the convenience sample and embed them in a 2-dimensional space using TSNE. Due to computational limitations, only a small portion (20%) of the total available data is used. However, the uniform subsample should capture the overall distribution well enough."
   ]
  },
  {
   "cell_type": "code",
   "execution_count": null,
   "metadata": {},
   "outputs": [],
   "source": [
    "if not USE_PRECOMPUTED:\n",
    "    df = Helper.get_icentia_embedding(subjects, model)\n",
    "    X_train, X_test, y_train, y_test = train_test_split(\n",
    "            df,\n",
    "            df.subject,\n",
    "            test_size=0.2,\n",
    "            random_state=42,\n",
    "            stratify=df.subject,\n",
    "        )\n",
    "    \n",
    "    X_embedded = TSNE(n_components=2).fit_transform(X_test.iloc[:,:ld].fillna(0.0))\n",
    "    X_embedded = pd.DataFrame(X_embedded, columns=['Projected Axis 1', 'Projected Axis 2'])\n",
    "    X_embedded['Beat'] = X_test.beat.values\n",
    "    X_embedded['Subject'] = y_test.values\n",
    "    X_embedded.to_csv('../analysis/personalization/embeddings_tsne/all.csv')\n",
    "else:\n",
    "    X_embedded = pd.read_csv('../analysis/personalization/embeddings_tsne/all.csv')"
   ]
  },
  {
   "cell_type": "code",
   "execution_count": null,
   "metadata": {},
   "outputs": [],
   "source": [
    "df_melted = pd.melt(X_embedded, id_vars=['Projected Axis 1', 'Projected Axis 2'], \n",
    "                    value_vars=['Subject', 'Beat'], \n",
    "                    var_name='Color', value_name='Color_')\n",
    "\n",
    "g = sns.FacetGrid(df_melted, col='Color', height=5, aspect=1)\n",
    "\n",
    "g.map(sns.scatterplot, 'Projected Axis 1', 'Projected Axis 2', 'Color_', s=1, palette='tab10')\n",
    "\n",
    "g.set_axis_labels(\"\",\"\")\n",
    "\n",
    "for i, ax in enumerate(g.axes.flat):\n",
    "    if i == 0:\n",
    "        ax.set_yticks([-100, 0, 100])\n",
    "\n",
    "plt.legend(markerscale=7, loc='upper left')\n",
    "plt.tight_layout()\n",
    "fig = g.figure\n",
    "fig.savefig('../analysis/media/embedding_icentia.png' , dpi=DPI, bbox_inches = 'tight')"
   ]
  },
  {
   "cell_type": "markdown",
   "metadata": {},
   "source": [
    "Since we have seen a strong clustering behavior with respect to the subjects, we would like to investigate the individual embeddings based on their personalized Mdoels. Therefore, we load the subjects' personalized embeddings and embed them individually (i.e., unlike in the previous calculation, all together but each one separately) into 2-dimensional points with TSNE."
   ]
  },
  {
   "cell_type": "code",
   "execution_count": null,
   "metadata": {},
   "outputs": [],
   "source": [
    "if not USE_PRECOMPUTED:\n",
    "    for subject in subjects:\n",
    "        print(subject)\n",
    "        df = pd.read_csv('../analysis/personalization/embeddings_vae/' + str(subject) + '.csv', index_col=0)\n",
    "        X_embedded = TSNE(n_components=2).fit_transform(df.iloc[:, 0:ld])\n",
    "        X_embedded = pd.DataFrame(X_embedded, columns=['Projected Axis 1', 'Projected Axis 2'])\n",
    "        X_embedded['beat'] = df.beat\n",
    "        X_embedded['segment'] = df.segment\n",
    "        X_embedded.beat = X_embedded.beat.replace(0.0, 'Normal').replace(1.0, 'Unclassified').replace(2.0, 'PAC').replace(3.0, 'PVC')\n",
    "        X_embedded = X_embedded[X_embedded.beat != 'Unclassified']\n",
    "        cols = {'beat': 'Beat'}\n",
    "        X_embedded = X_embedded.rename(columns=cols)\n",
    "        X_embedded.to_csv('../analysis/personalization/embeddings_tsne_small/' + str(subject) + '.csv')"
   ]
  },
  {
   "cell_type": "code",
   "execution_count": null,
   "metadata": {},
   "outputs": [],
   "source": [
    "df = pd.DataFrame()\n",
    "for path in glob.glob('../analysis/personalization/embeddings_tsne_small/*.csv'):\n",
    "    subject = path.split('/')[-1][:-4]\n",
    "    if subject != 'all':\n",
    "        X_embedded = pd.read_csv(path, index_col=0)\n",
    "        X_embedded['subject'] = subject\n",
    "        df = pd.concat([df, X_embedded])\n",
    "df.reset_index(drop=True, inplace=True)\n",
    "cols = {'subject': 'Subject'}\n",
    "df = df.rename(columns=cols)\n",
    "df.Subject = df.Subject.astype(int)\n",
    "df['Subject'] = pd.Categorical(df['Subject'], categories=custom_sort_order, ordered=True)"
   ]
  },
  {
   "cell_type": "code",
   "execution_count": null,
   "metadata": {},
   "outputs": [],
   "source": [
    "g = sns.FacetGrid(df, col=\"Subject\", col_wrap=3, palette=palette, hue=\"Beat\", sharex=True, sharey=False)\n",
    "g.map(sns.scatterplot, \"Projected Axis 1\", \"Projected Axis 2\", s=1)\n",
    "g.set_axis_labels(\"\", \"\")\n",
    "\n",
    "for i, ax in enumerate(g.axes):\n",
    "    ax.set_xlabel('')\n",
    "    if i % 3 != 0:\n",
    "        ax.set_ylabel('')\n",
    "        ax.set_yticklabels([])\n",
    "\n",
    "g.fig.subplots_adjust(wspace=0.1, hspace=0.01)\n",
    "\n",
    "handles, labels = g.axes[0].get_legend_handles_labels()\n",
    "sorted_handles_labels = sorted(zip(handles, labels), key=lambda x: x[1])\n",
    "sorted_handles, sorted_labels = zip(*sorted_handles_labels)\n",
    "\n",
    "g.fig.legend(sorted_handles, sorted_labels, markerscale=7, loc='upper center', bbox_to_anchor=(0.5, 1.05), ncol=3, borderaxespad=0., edgecolor='white')\n",
    "\n",
    "plt.tight_layout()\n",
    "fig = g.figure\n",
    "\n",
    "fig.savefig('../analysis/media/tsne_embedding_personalization.png', dpi=DPI, bbox_inches='tight')"
   ]
  },
  {
   "cell_type": "markdown",
   "metadata": {},
   "source": [
    "### Personalized Models: Explainability Pathologies along the axis"
   ]
  },
  {
   "cell_type": "markdown",
   "metadata": {},
   "source": [
    "For this experiment, we reload the embeddings of the personalized models. We expect a separating behavior on the fourth dimension, which is related to the S-wave, the Q-wave and thus the width of the QRS complex, one of the most important morphological changes in PVC. The same applies to the P wave and the PAC. The convincingly selected subjects who had either a high number (for significance) of PAC or PVCs were used to create the diagram. "
   ]
  },
  {
   "cell_type": "code",
   "execution_count": null,
   "metadata": {},
   "outputs": [],
   "source": [
    "df_pers = pd.DataFrame()\n",
    "for k in subjects:\n",
    "    df_per = pd.read_csv('../analysis/personalization/embeddings_vae_small/' + k + '.csv')\n",
    "    df_per.beat = df_per.beat.replace(0.0, 'Normal').replace(1.0, 'Unclassified').replace(2.0, 'PAC').replace(3.0, 'PVC')\n",
    "    df_per = df_per[df_per.beat != 'Unclassified'].drop('Unnamed: 0', axis=1)\n",
    "    df_pers = pd.concat([df_pers, df_per])\n",
    "df_pers.reset_index(drop=True, inplace=True)\n",
    "cols = {\n",
    "    'split': 'Subject', 'beat': 'Beat', #'4': 'S-wave and Q-Wave (width)', '5': 'P-wave (height, width)', \n",
    "}\n",
    "df_pers = df_pers.rename(columns=cols)\n",
    "df_pers.Subject = df_pers.Subject.astype(int)\n",
    "df_pers.reset_index(drop=True, inplace=True)"
   ]
  },
  {
   "cell_type": "code",
   "execution_count": null,
   "metadata": {},
   "outputs": [],
   "source": [
    "df_pers_pac = df_pers[df_pers.Subject.isin([2602, 9225, 10973])]\n",
    "df_pers_pvc = df_pers[df_pers.Subject.isin([1851, 5938, 10146])]"
   ]
  },
  {
   "cell_type": "code",
   "execution_count": null,
   "metadata": {},
   "outputs": [],
   "source": [
    "df_pers_pac = df_pers_pac.sort_values('Subject')\n",
    "df_pers_pvc = df_pers_pvc.sort_values('Subject')"
   ]
  },
  {
   "cell_type": "code",
   "execution_count": null,
   "metadata": {},
   "outputs": [],
   "source": [
    "g = sns.FacetGrid(df_pers_pac, col=\"Subject\", col_wrap=3, hue=\"Beat\", palette=palette, sharey=False, aspect=1)\n",
    "g.map(sns.kdeplot, \"1\", common_norm=False, warn_singular=False)\n",
    "\n",
    "handles, labels = g.axes[0].get_legend_handles_labels()\n",
    "\n",
    "for i, ax in enumerate(g.axes):\n",
    "    ax.set_xlabel('')\n",
    "    if i == 0:\n",
    "        ax.set_yticklabels([])\n",
    "    if i > 0:\n",
    "        ax.set_ylabel('')\n",
    "        ax.set_yticklabels([])\n",
    "        ax.spines['left'].set_visible(False)\n",
    "        ax.tick_params(axis='y', which='both', left=False) \n",
    "\n",
    "sorted_handles_labels = sorted(zip(handles, labels), key=lambda x: x[1])\n",
    "sorted_handles, sorted_labels = zip(*sorted_handles_labels)\n",
    "\n",
    "g.fig.legend(sorted_handles, sorted_labels, loc='upper center', bbox_to_anchor=(0.5, 1.075), ncol=3, borderaxespad=0., edgecolor='white')\n",
    "g.fig.text(0.5, 0.1, 'Dimension 1', ha='center')\n",
    "g.fig.subplots_adjust(wspace=0.1)\n",
    "plt.show()\n",
    "\n",
    "fig = g.fig\n",
    "fig.savefig('../analysis/media/distribution_pac.png', dpi=DPI, bbox_inches='tight')"
   ]
  },
  {
   "cell_type": "code",
   "execution_count": null,
   "metadata": {},
   "outputs": [],
   "source": [
    "g = sns.FacetGrid(df_pers_pvc, col=\"Subject\", col_wrap=3, hue=\"Beat\", palette=palette, sharey=False, aspect=1)\n",
    "g.map(sns.kdeplot, \"4\", common_norm=False, warn_singular=False)\n",
    "\n",
    "handles, labels = g.axes[0].get_legend_handles_labels()\n",
    "\n",
    "for i, ax in enumerate(g.axes):\n",
    "    ax.set_xlabel('')\n",
    "    if i == 0:\n",
    "        ax.set_yticklabels([])\n",
    "    if i > 0:\n",
    "        ax.set_ylabel('')\n",
    "        ax.set_yticklabels([])\n",
    "        ax.spines['left'].set_visible(False)\n",
    "        ax.tick_params(axis='y', which='both', left=False) \n",
    "\n",
    "sorted_handles_labels = sorted(zip(handles, labels), key=lambda x: x[1])\n",
    "sorted_handles, sorted_labels = zip(*sorted_handles_labels)\n",
    "\n",
    "g.fig.legend(sorted_handles, sorted_labels, loc='upper center', bbox_to_anchor=(0.5, 1.075), ncol=3, borderaxespad=0., edgecolor='white')\n",
    "g.fig.text(0.5, 0.1, 'Dimension 4', ha='center')\n",
    "g.fig.subplots_adjust(wspace=0.1)\n",
    "plt.show()\n",
    "\n",
    "# Save the figure\n",
    "fig = g.fig\n",
    "fig.savefig('../analysis/media/distribution_pvc.png', dpi=DPI, bbox_inches='tight')"
   ]
  },
  {
   "cell_type": "markdown",
   "metadata": {},
   "source": [
    "Finally, for all subjects and all axis, the distribution plot is generated. Note, that for several subjects there is a strong class imbalance."
   ]
  },
  {
   "cell_type": "code",
   "execution_count": null,
   "metadata": {},
   "outputs": [],
   "source": [
    "for i, k in enumerate(df_pers.columns[:ld]):\n",
    "    g = sns.FacetGrid(df_pers, col=\"Subject\", col_wrap=9, hue=\"Beat\", sharey=False, palette=palette)\n",
    "    g.map(sns.kdeplot, k, common_norm=False, warn_singular=False)\n",
    "    plt.legend()\n",
    "    fig = g.figure\n",
    "    fig.savefig('../analysis/media/distribution_personalization_all_' + str(i) + '.png' , dpi=300, bbox_inches = 'tight')"
   ]
  },
  {
   "cell_type": "code",
   "execution_count": null,
   "metadata": {},
   "outputs": [],
   "source": []
  }
 ],
 "metadata": {
  "kernelspec": {
   "display_name": "my_env",
   "language": "python",
   "name": "python3"
  },
  "language_info": {
   "codemirror_mode": {
    "name": "ipython",
    "version": 3
   },
   "file_extension": ".py",
   "mimetype": "text/x-python",
   "name": "python",
   "nbconvert_exporter": "python",
   "pygments_lexer": "ipython3",
   "version": "3.10.16"
  }
 },
 "nbformat": 4,
 "nbformat_minor": 2
}
